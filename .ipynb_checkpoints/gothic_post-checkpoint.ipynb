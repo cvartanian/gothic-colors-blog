{
 "cells": [
  {
   "cell_type": "markdown",
   "metadata": {},
   "source": [
    "<img src=\"gothic.png\" />"
   ]
  },
  {
   "cell_type": "code",
   "execution_count": 1,
   "metadata": {},
   "outputs": [],
   "source": [
    "# first let's import the libraries and functions we need\n",
    "import csv\n",
    "import json\n",
    "import matplotlib.pyplot as plt\n",
    "import numpy as np\n",
    "import string\n",
    "from collections import Counter, defaultdict, OrderedDict\n",
    "import nltk\n",
    "from nltk.tokenize import word_tokenize"
   ]
  },
  {
   "cell_type": "code",
   "execution_count": 2,
   "metadata": {},
   "outputs": [],
   "source": [
    "# for this example, I've selected one text from the \"corpora\" folder; the path will be added when we run the function\n",
    "title_file = 'Leroux_ThePhantomOfTheOpera_Gutenberg.txt'\n",
    "title = \"The Phantom of the Opera\""
   ]
  },
  {
   "cell_type": "markdown",
   "metadata": {},
   "source": [
    "### Beyond black, white and red\n",
    "First we needed to define what color words we were looking for.\n",
    "\n",
    "The corpus included works that were at least a century old, so it was unlikely that the authors of those works thought or talked about color the same way we do in the 2010s.  To get a reliable list of historical color words, we turned to the Oxford English Dictionary’s Historical Thesaurus.  It lists English color words, and for each provides the year of it’s first recorded use, and the color family it belongs to.\n",
    "\n",
    "From our original data set, I read a csv file into a short function and eliminated everything after 1914, since it’s not clear from the Thesaurus when words fell out of usage.  Based on the color grouping in the OEDHT, I also assigned each color a hex value using this function."
   ]
  },
  {
   "cell_type": "code",
   "execution_count": 3,
   "metadata": {},
   "outputs": [],
   "source": [
    "def id_color_words():\n",
    "    \"\"\"\n",
    "    Gets color words from the csv file and puts them into a dict where key = word\n",
    "    and value = (hex value, color family); removes pre-1914 color words.\n",
    "    \"\"\"\n",
    "    color_word_dict = {}\n",
    "    modern_color_words = []\n",
    "    color_data = csv.reader(open('./color_names.csv'), delimiter=\",\", quotechar='\"')\n",
    "    next(color_data, None)\n",
    "\n",
    "    for row in color_data:\n",
    "        name = row[0].lower()\n",
    "        year = int(row[1])\n",
    "        if ' ' not in name:\n",
    "            if year < 1914:\n",
    "                family = row[2].lower()\n",
    "                hex_value = row[3].lower()\n",
    "                color_word_dict[name] = (hex_value, family)\n",
    "            else:\n",
    "                modern_color_words.append((year, name))\n",
    "                   \n",
    "    return color_word_dict, modern_color_words"
   ]
  },
  {
   "cell_type": "code",
   "execution_count": 4,
   "metadata": {},
   "outputs": [
    {
     "name": "stdout",
     "output_type": "stream",
     "text": [
      "There are 980 color words in our dictionary that were in use before 1914, per the OED.\n",
      "\n",
      "Here is a sample - first value is the HTML color, the second is the color family.\n",
      "miniate : ('red', 'bright red or scarlet')\n",
      "nasturtium-red : ('red', 'bright red or scarlet')\n",
      "blood-red : ('crimson', 'deep red or crimson')\n",
      "bloody : ('crimson', 'deep red or crimson')\n",
      "purpurine : ('purple', 'purple ')\n",
      "sanguine : ('crimson', 'deep red or crimson')\n",
      "tuly : ('crimson', 'deep red or crimson')\n",
      "murrey : ('crimson', 'deep red or crimson')\n",
      "purpure : ('purple', 'purple ')\n",
      "crimson : ('crimson', 'deep red or crimson')\n"
     ]
    }
   ],
   "source": [
    "color_dict, modern_color_words = id_color_words()\n",
    "\n",
    "print(\"There are %d color words in our dictionary that were in use before 1914, per the OED.\" % len(color_dict))\n",
    "print()\n",
    "sample_colors = list(color_dict.keys())[230:240]\n",
    "print(\"Here is a sample - first value is the HTML color, the second is the color family.\")\n",
    "for s in sample_colors:\n",
    "    print(s, \":\", color_dict[s])"
   ]
  },
  {
   "cell_type": "code",
   "execution_count": 5,
   "metadata": {},
   "outputs": [
    {
     "name": "stdout",
     "output_type": "stream",
     "text": [
      "Here are the post-1914 words and the year of first usage according to the Oxford English Dictionary.\n",
      "The 20th century ushered in food-related color words including avocado, citron, cocoa, mustard, pimento & toffee.\n",
      "\n",
      "{\n",
      " \"1918\": \"shadow-grey\",\n",
      " \"1919\": \"mustard\",\n",
      " \"1921\": \"pimento\",\n",
      " \"1922\": \"straw-pale\",\n",
      " \"1923\": \"sahara\",\n",
      " \"1924\": \"hennaed\",\n",
      " \"1927\": \"greige\",\n",
      " \"1928\": \"mimosa\",\n",
      " \"1931\": \"magnolia-pink\",\n",
      " \"1934\": \"safari\",\n",
      " \"1935\": \"salmony\",\n",
      " \"1937\": \"seaweed-green\",\n",
      " \"1938\": \"guinea-gold\",\n",
      " \"1941\": \"prune-dark\",\n",
      " \"1942\": \"cocoa\",\n",
      " \"1946\": \"whale-blue\",\n",
      " \"1947\": \"avocado\",\n",
      " \"1949\": \"saffronic\",\n",
      " \"1950\": \"wine\",\n",
      " \"1951\": \"bone-coloured\",\n",
      " \"1953\": \"pinko-grey\",\n",
      " \"1961\": \"toffee-brown\",\n",
      " \"1962\": \"peppery\",\n",
      " \"1963\": \"magnolia\",\n",
      " \"1965\": \"nutmeg\",\n",
      " \"1970\": \"flame\",\n",
      " \"1971\": \"sunshine-yellow\",\n",
      " \"1975\": \"sludgy\",\n",
      " \"1977\": \"tangerine-coloured\",\n",
      " \"1978\": \"spun-golden\",\n",
      " \"1981\": \"pepperminty\",\n",
      " \"1991\": \"mango\"\n",
      "}\n"
     ]
    }
   ],
   "source": [
    "print(\"Here are the post-1914 words and the year of first usage according to the Oxford English Dictionary.\")\n",
    "print(\"The 20th century ushered in food-related color words including avocado, citron, cocoa, mustard, pimento & toffee.\")\n",
    "print()\n",
    "print(json.dumps(dict(sorted(modern_color_words, key=lambda x: x[0])), indent=1))"
   ]
  },
  {
   "cell_type": "markdown",
   "metadata": {},
   "source": [
    "### ‘rose’ != ‘rose’ != ‘rose’\n",
    "<div align=\"center\" style=\"margin: 0 auto;\">\n",
    "    <div style=\"width: 30%;float: left;\"><img src=\"roseisarose.gif\"></div>\n",
    "    <div><p>First we needed to define what color words we were looking for.</p> \n",
    "\n",
    "<p> </p> \n",
    "\n",
    "\n",
    "<p></p> \n",
    "    </div>\n",
    "</div>"
   ]
  },
  {
   "cell_type": "code",
   "execution_count": 10,
   "metadata": {},
   "outputs": [],
   "source": [
    "def process_text(filename):\n",
    "    \"\"\"\n",
    "    This function generates a list of tokens with punctuation stopwords, and spaces removed for the whole text.\n",
    "    It also applies NLTK's part of speech tagging function to determine if words are nouns, adjectives, verbs, etc.\n",
    "    \"\"\"\n",
    "    text_tokens = []\n",
    "\n",
    "    file_path = \"./corpora/\" + filename\n",
    "    stop = list(set(stopwords.words('english')))\n",
    "    punc = [p for p in string.punctuation]\n",
    "    stop_punc = stop + punc + [\"''\", '``']\n",
    "\n",
    "    text = open(file_path, 'r')\n",
    "\n",
    "    for row in text:\n",
    "        tokens = pos_tag(word_tokenize(row.lower()))\n",
    "        if len(tokens) is not 0:\n",
    "            # puts everything in lowercase, removes punctuation and stopwords\n",
    "            tokens = [token for token in tokens if token[0] not in stop_punc]\n",
    "            # adds row tokens to master list\n",
    "            text_tokens.extend(tokens)\n",
    "\n",
    "    return text_tokens"
   ]
  },
  {
   "cell_type": "code",
   "execution_count": 11,
   "metadata": {},
   "outputs": [
    {
     "ename": "AttributeError",
     "evalue": "'bool' object has no attribute 'words'",
     "output_type": "error",
     "traceback": [
      "\u001b[0;31m---------------------------------------------------------------------------\u001b[0m",
      "\u001b[0;31mAttributeError\u001b[0m                            Traceback (most recent call last)",
      "\u001b[0;32m<ipython-input-11-23be31a6a1c5>\u001b[0m in \u001b[0;36m<module>\u001b[0;34m()\u001b[0m\n\u001b[0;32m----> 1\u001b[0;31m \u001b[0mprocessed\u001b[0m \u001b[0;34m=\u001b[0m \u001b[0mprocess_text\u001b[0m\u001b[0;34m(\u001b[0m\u001b[0mtitle_file\u001b[0m\u001b[0;34m)\u001b[0m\u001b[0;34m\u001b[0m\u001b[0m\n\u001b[0m",
      "\u001b[0;32m<ipython-input-10-2a192cfc3f71>\u001b[0m in \u001b[0;36mprocess_text\u001b[0;34m(filename)\u001b[0m\n\u001b[1;32m      7\u001b[0m \u001b[0;34m\u001b[0m\u001b[0m\n\u001b[1;32m      8\u001b[0m     \u001b[0mfile_path\u001b[0m \u001b[0;34m=\u001b[0m \u001b[0;34m\"./corpora/\"\u001b[0m \u001b[0;34m+\u001b[0m \u001b[0mfilename\u001b[0m\u001b[0;34m\u001b[0m\u001b[0m\n\u001b[0;32m----> 9\u001b[0;31m     \u001b[0mstop\u001b[0m \u001b[0;34m=\u001b[0m \u001b[0mlist\u001b[0m\u001b[0;34m(\u001b[0m\u001b[0mstop_w\u001b[0m\u001b[0;34m.\u001b[0m\u001b[0mwords\u001b[0m\u001b[0;34m(\u001b[0m\u001b[0;34m'english'\u001b[0m\u001b[0;34m)\u001b[0m\u001b[0;34m)\u001b[0m\u001b[0;34m\u001b[0m\u001b[0m\n\u001b[0m\u001b[1;32m     10\u001b[0m     \u001b[0mpunc\u001b[0m \u001b[0;34m=\u001b[0m \u001b[0;34m[\u001b[0m\u001b[0mp\u001b[0m \u001b[0;32mfor\u001b[0m \u001b[0mp\u001b[0m \u001b[0;32min\u001b[0m \u001b[0mstring\u001b[0m\u001b[0;34m.\u001b[0m\u001b[0mpunctuation\u001b[0m\u001b[0;34m]\u001b[0m\u001b[0;34m\u001b[0m\u001b[0m\n\u001b[1;32m     11\u001b[0m     \u001b[0mstop_punc\u001b[0m \u001b[0;34m=\u001b[0m \u001b[0mstop\u001b[0m \u001b[0;34m+\u001b[0m \u001b[0mpunc\u001b[0m \u001b[0;34m+\u001b[0m \u001b[0;34m[\u001b[0m\u001b[0;34m\"''\"\u001b[0m\u001b[0;34m,\u001b[0m \u001b[0;34m'``'\u001b[0m\u001b[0;34m]\u001b[0m\u001b[0;34m\u001b[0m\u001b[0m\n",
      "\u001b[0;31mAttributeError\u001b[0m: 'bool' object has no attribute 'words'"
     ]
    }
   ],
   "source": [
    "processed = process_text(title_file)"
   ]
  },
  {
   "cell_type": "code",
   "execution_count": null,
   "metadata": {},
   "outputs": [],
   "source": [
    "print(processed[300:320])"
   ]
  },
  {
   "cell_type": "code",
   "execution_count": null,
   "metadata": {},
   "outputs": [],
   "source": [
    "def find_color_words(t, color_dict):\n",
    "    \"\"\"\n",
    "    This function identifies adjectives and nouns in the text that match contemporary color words in the color_dict,\n",
    "    then checks to see if the word before or after it is also a color word to help the analyst determine if they want\n",
    "    to count instances where two color words are found together - e.g. \"red rose\", or \"white marble\"\n",
    "    \"\"\"\n",
    "    colors = color_dict.keys()\n",
    "    color_words = []\n",
    "    concurrent_color_words = []\n",
    "    tags = ['JJ', 'NN']\n",
    "    \n",
    "    for i in range(len(t)-1):\n",
    "        if t[i][1] in tags and t[i][0] in colors:\n",
    "            color_words.append(t[i])\n",
    "            if t[i+1][1] in tags and t[i+1][0] in colors:\n",
    "                color_words.append(t[i+1])\n",
    "                concurrent_color_words.append((t[i], t[i + 1]))\n",
    "                i += 1\n",
    "            else:\n",
    "                continue\n",
    "        \n",
    "    return color_words, concurrent_color_words"
   ]
  },
  {
   "cell_type": "code",
   "execution_count": null,
   "metadata": {},
   "outputs": [],
   "source": [
    "color_in_text, concurrent_color_words = find_color_words(processed, color_dict)\n",
    "\n",
    "print(\"Here's a sample of what our list of color words looks like:\")\n",
    "print(color_in_text[:20])\n",
    "print()\n",
    "if len(concurrent_color_words) > 1:\n",
    "    print(\"Here are the concurrent color words, instances where we had a color noun with a color adjective:\")\n",
    "    print(concurrent_color_words)\n",
    "else:\n",
    "    print(\"No concurrent color words (e.g. 'red rose' or 'yellow orange') were found!\")"
   ]
  },
  {
   "cell_type": "code",
   "execution_count": null,
   "metadata": {},
   "outputs": [],
   "source": [
    "nouns = Counter([n[0] for n in color_in_text if n[1] == 'NN'])\n",
    "total_nouns = sum(nouns.values())\n",
    "adjectives = Counter([a[0] for a in color_in_text if a[1] == 'JJ'])\n",
    "total_adjectives = sum(adjectives.values())\n",
    "total_color_words = len(color_in_text)"
   ]
  },
  {
   "cell_type": "code",
   "execution_count": null,
   "metadata": {},
   "outputs": [],
   "source": [
    "print(\"There are %d nouns in our color word list:\" % total_nouns)\n",
    "print(nouns)\n",
    "print()\n",
    "print(\"And %d adjectives in our color word list:\" % total_adjectives)\n",
    "print(adjectives)"
   ]
  },
  {
   "cell_type": "code",
   "execution_count": null,
   "metadata": {},
   "outputs": [],
   "source": [
    "pct_color_words = round((total_color_words/len(processed))*100, 2)\n",
    "print(\"%s is %s percent color words.\"% (title, pct_color_words))\n",
    "print(\"%d percent of the color words are nouns.\" % round((total_nouns/total_color_words)*100, 1))\n",
    "print(\"%d percent of the color words are adjectives.\" % round((total_adjectives/total_color_words)*100, 1))"
   ]
  },
  {
   "cell_type": "code",
   "execution_count": null,
   "metadata": {},
   "outputs": [],
   "source": [
    "def group_to_plot(color_dict, c_i_t):\n",
    "    color_summary = defaultdict(int)\n",
    "    for c in c_i_t:\n",
    "        color_summary[color_dict[c[0]][0]] += 1\n",
    "    color_sum_a = dict(OrderedDict(sorted(color_summary.items(), key=lambda t: t[1])))\n",
    "    color_sum_d = dict(OrderedDict(sorted(color_summary.items(), key=lambda t: t[1], reverse=True)))\n",
    "    return color_sum_a, color_sum_d"
   ]
  },
  {
   "cell_type": "code",
   "execution_count": null,
   "metadata": {},
   "outputs": [],
   "source": [
    "html_color_counts_asc, html_color_counts_dsc  = group_to_plot(color_dict, color_in_text)\n",
    "print (json.dumps(html_color_counts_dsc, indent=1))"
   ]
  },
  {
   "cell_type": "code",
   "execution_count": null,
   "metadata": {},
   "outputs": [],
   "source": [
    "colors = list(html_color_counts_asc.keys())\n",
    "counts = list(html_color_counts_asc.values())\n",
    "y_pos = np.arange(len(counts))\n",
    "\n",
    "plt.barh(y_pos, counts, align='center', alpha=0.9, color=colors)\n",
    "plt.yticks(y_pos, colors)\n",
    "plt.xlabel('# references')\n",
    "plt.title('HTML colors from ' + title)\n",
    " \n",
    "plt.show()"
   ]
  }
 ],
 "metadata": {
  "kernelspec": {
   "display_name": "Python 3",
   "language": "python",
   "name": "python3"
  },
  "language_info": {
   "codemirror_mode": {
    "name": "ipython",
    "version": 3
   },
   "file_extension": ".py",
   "mimetype": "text/x-python",
   "name": "python",
   "nbconvert_exporter": "python",
   "pygments_lexer": "ipython3",
   "version": "3.6.5"
  }
 },
 "nbformat": 4,
 "nbformat_minor": 2
}
