{
 "cells": [
  {
   "cell_type": "markdown",
   "metadata": {},
   "source": [
    "<img src=\"portfolio_gothic.png\" />"
   ]
  },
  {
   "cell_type": "markdown",
   "metadata": {},
   "source": [
    "If someone says “gothic” to you, do you think of lush rolling countryside or a sunny day?\n",
    "\n",
    "Chances are you don’t.  Most people - myself included - associate that word with things that are dark, mysterious and even frightening.  Maybe you picture ornate stone architecture of a castle or a cathedra with gargoyles. Or perhaps foreboding skies rolling over said castle.  Or very morose, pale people wearing black capes and veils.  Or vampires with all of the above.\n",
    "\n",
    "About a year ago, [Caroline Winter](https://carolinewinter.com/), a PhD student at the University of Victoria, emailed me with a question.  She had assembled a [corpus of 134 works of European Gothic literature](https://github.com/eleanorstrib/gothic/tree/master/corpora) that had been written or translated into English, ranging from the 18th century to the early 20th.  Could I write her a short script to count and analyze color words for a broad corpus she’d assembled as a survey of Gothic literature she was studying?  Because her hunch was that gothic literature was greener and less bleak and grim than most people thought.\n",
    "\n",
    "This post tells the story of how a quick Python project for a Sunday afternoon morphed into a talk at PyCon.  Through some pretty straightforward counting and matching techniques, we were able to find some interesting patterns that challenged my gloomy picture of “gothic”.  \n",
    "\n",
    "This Jupyter Notebook is a companion to the post on the [Kite.com blog](https://kite.com/blog) published in September 2018.\n"
   ]
  },
  {
   "cell_type": "code",
   "execution_count": 79,
   "metadata": {},
   "outputs": [
    {
     "name": "stdout",
     "output_type": "stream",
     "text": [
      "[nltk_data] Downloading package punkt to\n",
      "[nltk_data]     /Users/estribling/nltk_data...\n",
      "[nltk_data]   Package punkt is already up-to-date!\n",
      "[nltk_data] Downloading package averaged_perceptron_tagger to\n",
      "[nltk_data]     /Users/estribling/nltk_data...\n",
      "[nltk_data]   Package averaged_perceptron_tagger is already up-to-\n",
      "[nltk_data]       date!\n"
     ]
    },
    {
     "data": {
      "text/plain": [
       "True"
      ]
     },
     "execution_count": 79,
     "metadata": {},
     "output_type": "execute_result"
    }
   ],
   "source": [
    "# first let's import the libraries and functions we need\n",
    "import csv\n",
    "import json\n",
    "import matplotlib.pyplot as plt\n",
    "import numpy as np\n",
    "import string\n",
    "from collections import Counter, defaultdict, OrderedDict\n",
    "import nltk\n",
    "from nltk import pos_tag, word_tokenize\n",
    "from nltk.corpus import stopwords\n",
    "nltk.download('punkt')\n",
    "nltk.download('averaged_perceptron_tagger')"
   ]
  },
  {
   "cell_type": "code",
   "execution_count": 2,
   "metadata": {},
   "outputs": [],
   "source": [
    "# for this example, I've selected one text from the \"corpora\" folder; the path will be added when we run the function\n",
    "title_file = 'Leroux_ThePhantomOfTheOpera_Gutenberg.txt'\n",
    "title = \"The Phantom of the Opera\""
   ]
  },
  {
   "cell_type": "markdown",
   "metadata": {},
   "source": [
    "### Beyond black, white and red\n",
    "\n",
    "The first step in the project was to define what color words we were looking for.  The challenge here was that both the vocabulary used to describe color and the actual coloring of objects themselves were different in the gothic era than we think of them in the late 2010s.\n",
    "\n",
    "Rather than guess about historical color words, we turned to the Oxford English Dictionary’s Historical Thesaurus (OEDHT).  It lists English, predominantly European color words, the year of each one’s first recorded use, and its color family.  \n",
    "\n",
    "After adding some html color names based on color grouping to our csv file of the original data set (also in this repo), I read a csv file with the OEDHT data into a short function and eliminated everything that came into usage after 1914, since it’s not clear from the data when words fell out of usage.  "
   ]
  },
  {
   "cell_type": "code",
   "execution_count": 3,
   "metadata": {},
   "outputs": [],
   "source": [
    "def id_color_words():\n",
    "    \"\"\"\n",
    "    Gets color words from the csv file and puts them into a dict where key = word\n",
    "    and value = (hex value, color family); removes pre-1914 color words.\n",
    "    \"\"\"\n",
    "    color_word_dict = {}\n",
    "    modern_color_words = []\n",
    "    color_data = csv.DictReader(open('./color_names.csv'), delimiter=\",\", quotechar='\"')\n",
    "\n",
    "    for row in color_data:\n",
    "        name = row['Colour Name'].lower()\n",
    "        year = int(row['First Usage'])\n",
    "        if ' ' not in name:\n",
    "            if year < 1914:\n",
    "                family = row['Colour Family'].lower()\n",
    "                hex_value = row['hex'].lower()\n",
    "                color_word_dict[name] = (hex_value, family)\n",
    "            else:\n",
    "                modern_color_words.append((year, name))\n",
    "                   \n",
    "    return color_word_dict, modern_color_words"
   ]
  },
  {
   "cell_type": "markdown",
   "metadata": {},
   "source": [
    "This gave us a dictionary of 980 pre-WWI color words ranging from the familiar, like blue (first usage 1300), crimson (1416), or jet (1607), to the uncommon, like corbeau (1810, dark green), damask (1598, pink) or ochroid (1897, pale yellow).  There were also some instances where the way words were categorized reflected an historical state of familiar things for example, ‘glass’ is categorized as a greyish green, not pale blue or clear as we may think of it today.\n",
    "\n",
    "Now we knew what we were looking for, but getting this right was about more than counting these color words."
   ]
  },
  {
   "cell_type": "code",
   "execution_count": 4,
   "metadata": {},
   "outputs": [
    {
     "name": "stdout",
     "output_type": "stream",
     "text": [
      "There are 980 color words in our dictionary that were in use before 1914, per the OED.\n",
      "\n",
      "Here is a sample - first value in the tuple is the HTML color, the second is the color family.\n",
      "miniate : ('red', 'bright red or scarlet')\n",
      "nasturtium-red : ('red', 'bright red or scarlet')\n",
      "blood-red : ('crimson', 'deep red or crimson')\n",
      "bloody : ('crimson', 'deep red or crimson')\n",
      "purpurine : ('purple', 'purple ')\n",
      "sanguine : ('crimson', 'deep red or crimson')\n",
      "tuly : ('crimson', 'deep red or crimson')\n",
      "murrey : ('crimson', 'deep red or crimson')\n",
      "purpure : ('purple', 'purple ')\n",
      "crimson : ('crimson', 'deep red or crimson')\n"
     ]
    }
   ],
   "source": [
    "color_dict, modern_color_words = id_color_words()\n",
    "\n",
    "print(\"There are %d color words in our dictionary that were in use before 1914, per the OED.\" % len(color_dict))\n",
    "print()\n",
    "sample_colors = list(color_dict.keys())[230:240]\n",
    "print(\"Here is a sample - first value in the tuple is the HTML color, the second is the color family.\")\n",
    "for s in sample_colors:\n",
    "    print(s, \":\", color_dict[s])"
   ]
  },
  {
   "cell_type": "code",
   "execution_count": 5,
   "metadata": {},
   "outputs": [
    {
     "name": "stdout",
     "output_type": "stream",
     "text": [
      "Here are the post-1914 words and the year of first usage according to the Oxford English Dictionary.\n",
      "The 20th century ushered in food-related color words including avocado, citron, cocoa, mustard, pimento & toffee.\n",
      "\n",
      "{\n",
      " \"1918\": \"shadow-grey\",\n",
      " \"1919\": \"mustard\",\n",
      " \"1921\": \"pimento\",\n",
      " \"1922\": \"straw-pale\",\n",
      " \"1923\": \"sahara\",\n",
      " \"1924\": \"hennaed\",\n",
      " \"1927\": \"greige\",\n",
      " \"1928\": \"mimosa\",\n",
      " \"1931\": \"magnolia-pink\",\n",
      " \"1934\": \"safari\",\n",
      " \"1935\": \"salmony\",\n",
      " \"1937\": \"seaweed-green\",\n",
      " \"1938\": \"guinea-gold\",\n",
      " \"1941\": \"prune-dark\",\n",
      " \"1942\": \"cocoa\",\n",
      " \"1946\": \"whale-blue\",\n",
      " \"1947\": \"avocado\",\n",
      " \"1949\": \"saffronic\",\n",
      " \"1950\": \"wine\",\n",
      " \"1951\": \"bone-coloured\",\n",
      " \"1953\": \"pinko-grey\",\n",
      " \"1961\": \"toffee-brown\",\n",
      " \"1962\": \"peppery\",\n",
      " \"1963\": \"magnolia\",\n",
      " \"1965\": \"nutmeg\",\n",
      " \"1970\": \"flame\",\n",
      " \"1971\": \"sunshine-yellow\",\n",
      " \"1975\": \"sludgy\",\n",
      " \"1977\": \"tangerine-coloured\",\n",
      " \"1978\": \"spun-golden\",\n",
      " \"1981\": \"pepperminty\",\n",
      " \"1991\": \"mango\"\n",
      "}\n"
     ]
    }
   ],
   "source": [
    "# what we're discarding from the data set is also interesting\n",
    "print(\"Here are the post-1914 words and the year of first usage according to the Oxford English Dictionary.\")\n",
    "print(\"The 20th century ushered in food-related color words including avocado, citron, cocoa, mustard, pimento & toffee.\")\n",
    "print()\n",
    "print(json.dumps(dict(sorted(modern_color_words, key=lambda x: x[0])), indent=1))"
   ]
  },
  {
   "cell_type": "markdown",
   "metadata": {},
   "source": [
    "### ‘rose’ != ‘rose’ != ‘rose’\n",
    "<div align=\"center\" style=\"margin: 0 auto;\">\n",
    "    <div style=\"width: 50%;float: left;\"><img src=\"roseisarose.png\"></div>\n",
    "    <div><p>\n",
    "    English is a tricky language, with many words that sound the same mean different things and many words that look the same mean different things in context. ‘Rose’ is a great example: it can be a noun, adjective or a verb, as demonstrated in the gif below.\n",
    "\n",
    "<p>So which words should we count?  Should every word on the list be included?\n",
    "\n",
    "<p>To make this decision, we needed to write more code to parse our corpus and look at the results. \n",
    "\n",
    "<p>The function below, `process_text` reads in the text file for a single work, removes the “gristle” - stop words, punctuation, and puts remaining words all in lowercase - then tags them for part of speech (noun, verb, adjective, etc.) using the Natural Language Toolkit (NLTK) ‘pos_tag’ function.</p>\n",
    "    </div>\n",
    "</div>"
   ]
  },
  {
   "cell_type": "code",
   "execution_count": 87,
   "metadata": {},
   "outputs": [],
   "source": [
    "def process_text(filename):\n",
    "    \"\"\"\n",
    "    This function generates a list of tokens with punctuation stopwords, and spaces removed for the whole text.\n",
    "    It also applies NLTK's part of speech tagging function to determine if words are nouns, adjectives, verbs, etc.\n",
    "    \"\"\"\n",
    "    text_tokens = []\n",
    "    \n",
    "    # create a list of the words and punctuation we want to remove before analyzing\n",
    "    stop_punc = set(stopwords.words('english') + [*string.punctuation] + [\"''\", '``'])\n",
    "    \n",
    "    with open(filename) as text:\n",
    "        for row in text:\n",
    "            # puts everything in lowercase, postion tags\n",
    "            for token in pos_tag(word_tokenize(row.lower())):\n",
    "                #removes tokens if contains punctuation or stopwords\n",
    "                if token and token[0] not in stop_punc:\n",
    "                    text_tokens.append(token)\n",
    "\n",
    "    return text_tokens"
   ]
  },
  {
   "cell_type": "code",
   "execution_count": 7,
   "metadata": {},
   "outputs": [
    {
     "name": "stdout",
     "output_type": "stream",
     "text": [
      "[('memoirs', 'NNS'), ('manager', 'NN'), ('light', 'NN'), ('frivolous', 'JJ'), ('work', 'NN'), ('too-skeptical', 'JJ'), ('moncharmin', 'NN'), ('term', 'NN'), ('opera', 'NN'), ('understood', 'JJ'), ('nothing', 'NN'), ('mysterious', 'JJ'), ('behavior', 'NN'), ('ghost', 'NN'), ('making', 'VBG'), ('fun', 'NN'), ('could', 'MD'), ('moment', 'NN'), ('became', 'VBD'), ('first', 'JJ')]\n"
     ]
    }
   ],
   "source": [
    "# let's run the function and look at a sample of the data we've generated\n",
    "processed = process_text(title_file)\n",
    "print(processed[300:320])"
   ]
  },
  {
   "cell_type": "code",
   "execution_count": 80,
   "metadata": {},
   "outputs": [],
   "source": [
    "def find_color_words(t, color_dict):\n",
    "    \"\"\"\n",
    "    This function identifies adjectives and nouns in the text that match contemporary color words in the color_dict,\n",
    "    then checks to see if the word before or after it is also a color word to help the analyst determine if they want\n",
    "    to count instances where two color words are found together - e.g. \"red rose\", or \"white marble\"\n",
    "    \"\"\"\n",
    "    color_words = []\n",
    "    concurrent_color_words = []\n",
    "    tags = {'JJ', 'NN'} # JJ = adjectives, NN = nouns\n",
    "    \n",
    "    current_idx = 0\n",
    "    \n",
    "    while current_idx < len(t):\n",
    "        # check if the word is in the color_dict and has the correct tags\n",
    "        if t[current_idx][1] in tags and t[current_idx][0] in color_dict:\n",
    "            color_words.append(t[current_idx])\n",
    "\n",
    "            # check the next word to see if it's in the color_dict\n",
    "            next_idx = current_idx + 1\n",
    "            if t[next_idx][1] in tags and t[next_idx][0] in color_dict:\n",
    "                color_words.append(t[next_idx])\n",
    "                concurrent_color_words.append((t[current_idx], t[next_idx]))\n",
    "                # increment current_idx by an extra step\n",
    "                current_idx = next_idx\n",
    "        # increment current_idx by 1\n",
    "        current_idx += 1\n",
    "        \n",
    "    return color_words, concurrent_color_words"
   ]
  },
  {
   "cell_type": "code",
   "execution_count": 81,
   "metadata": {},
   "outputs": [
    {
     "name": "stdout",
     "output_type": "stream",
     "text": [
      "Here's a sample of what our list of color words looks like:\n",
      "[('yellow', 'JJ'), ('black', 'JJ'), ('mourning', 'NN'), ('rose-red', 'JJ'), ('lily-white', 'JJ'), ('black', 'JJ'), ('black', 'JJ'), ('black', 'JJ'), ('white', 'JJ'), ('yellow', 'NN'), ('plum', 'NN'), ('glass', 'NN'), ('red', 'JJ'), ('coral', 'JJ'), ('pink', 'NN'), ('iron', 'NN'), ('glass', 'NN'), ('pink', 'JJ'), ('candid', 'JJ'), ('blue', 'JJ')]\n",
      "\n",
      "Here is a sample of the concurrent color words, instances where we had a color noun with a color adjective:\n",
      "[(('glass', 'NN'), ('champagne', 'NN')), (('red', 'JJ'), ('white', 'JJ')), (('pink', 'NN'), ('blush', 'NN')), (('glass', 'NN'), ('champagne', 'NN')), (('pink', 'NN'), ('white', 'JJ')), (('gold', 'NN'), ('purple', 'NN')), (('water', 'NN'), ('bluey', 'NN')), (('glass', 'NN'), ('glass', 'NN')), (('red', 'JJ'), ('red', 'JJ')), (('water', 'NN'), ('water', 'NN'))]\n"
     ]
    }
   ],
   "source": [
    "color_in_text, concurrent_color_words = find_color_words(processed, color_dict)\n",
    "\n",
    "print(\"Here's a sample of what our list of color words looks like:\")\n",
    "print(color_in_text[:20])\n",
    "print()\n",
    "if len(concurrent_color_words) > 1:\n",
    "    print(\"Here is a sample of the concurrent color words, instances where we had a color noun with a color adjective:\")\n",
    "    print(concurrent_color_words[:10])\n",
    "else:\n",
    "    print(\"No concurrent color words (e.g. 'red rose' or 'yellow orange') were found!\")"
   ]
  },
  {
   "cell_type": "markdown",
   "metadata": {},
   "source": [
    "This function outputs the whole text that looks like this - as you can see `pos_tag` doesn’t look like it gets the part of speech correct every time, but it’s pretty close."
   ]
  },
  {
   "cell_type": "code",
   "execution_count": 82,
   "metadata": {},
   "outputs": [
    {
     "name": "stdout",
     "output_type": "stream",
     "text": [
      "Here's a sample of what our list of color words looks like:\n",
      "[('yellow', 'JJ'), ('black', 'JJ'), ('mourning', 'NN'), ('rose-red', 'JJ'), ('lily-white', 'JJ'), ('black', 'JJ'), ('black', 'JJ'), ('black', 'JJ'), ('white', 'JJ'), ('yellow', 'NN'), ('plum', 'NN'), ('glass', 'NN'), ('red', 'JJ'), ('coral', 'JJ'), ('pink', 'NN'), ('iron', 'NN'), ('glass', 'NN'), ('pink', 'JJ'), ('candid', 'JJ'), ('blue', 'JJ')]\n"
     ]
    }
   ],
   "source": [
    "print(\"Here's a sample of what our list of color words looks like:\")\n",
    "print(color_in_text[:20])"
   ]
  },
  {
   "cell_type": "markdown",
   "metadata": {},
   "source": [
    "Here’s what we get from this function.\n",
    "\n",
    "First, a list of all of the identified color words in the text and their tag, like this:\n",
    "\n",
    "`[('yellow', 'JJ'), ('black', 'JJ'), ('mourning', 'NN'), ('rose-red', 'JJ'), ('lily-white', 'JJ'), ('black', 'JJ'), ('black', 'JJ'), ('black', 'JJ'), ('white', 'JJ'), ('yellow', 'NN'), ('plum', 'NN'), ('glass', 'NN'), ('red', 'JJ'), ('coral', 'JJ'), ('pink', 'NN'), ('iron', 'NN'), ('glass', 'NN'), ('pink', 'JJ'), ('candid', 'JJ'), ('blue', 'JJ')]`\n",
    "\n",
    "Second, we get a list of tuples containing the color words that were adjectives or nouns followed by another adjective or noun closely in the original text.  From The Phantom of the Opera, we get examples like:\n",
    "`(('glass', 'NN'), ('champagne', 'NN'))\n",
    "(('pink', 'NN'), ('white', 'JJ'))\n",
    "(('gold', 'NN'), ('purple', 'NN'))\n",
    "(('water', 'NN'), ('bluey', 'NN'))`\n",
    "In most cases we didn’t think one of these took anything away from or obscured the other; in fact their close association painted a clearer picture of color and in some cases texture.  So we left both words in.\n",
    "\n",
    "From this you can get some summary stats, like what percentage of the uncommon words in the text were color words (Phantom is 0.9%), and what proportion are nouns versus adjectives (Phantom is 52-47).\n"
   ]
  },
  {
   "cell_type": "code",
   "execution_count": 83,
   "metadata": {},
   "outputs": [
    {
     "name": "stdout",
     "output_type": "stream",
     "text": [
      "There are 182 nouns in our color word list:\n",
      "Counter({'water': 56, 'glass': 24, 'iron': 20, 'stone': 19, 'gold': 10, 'bronze': 5, 'pink': 4, 'snow': 4, 'marble': 4, 'rush': 3, 'crimson': 3, 'champagne': 2, 'wan': 2, 'blush': 2, 'scarlet': 2, 'bluey': 2, 'mahogany': 2, 'mourning': 1, 'yellow': 1, 'plum': 1, 'navy': 1, 'peacock': 1, 'straw': 1, 'ivory': 1, 'copper': 1, 'chocolate': 1, 'blue': 1, 'candid': 1, 'purple': 1, 'incarnate': 1, 'mole': 1, 'inky': 1, 'stony': 1, 'gunpowder': 1, 'violet': 1})\n",
      "\n",
      "And 169 adjectives in our color word list:\n",
      "Counter({'red': 45, 'black': 40, 'white': 30, 'rosy': 9, 'yellow': 8, 'blue': 8, 'marble': 7, 'golden': 5, 'leaden': 3, 'candid': 2, 'green': 2, 'rose-red': 1, 'lily-white': 1, 'coral': 1, 'pink': 1, 'purple': 1, 'smoky': 1, 'glaucous': 1, 'rusty': 1, 'metallic': 1, 'pitchy': 1})\n",
      "\n",
      "The Phantom of the Opera is 0.84 percent color words.\n",
      "~51 percent of the color words are nouns.\n",
      "~48 percent of the color words are adjectives.\n"
     ]
    }
   ],
   "source": [
    "#some descriptive statistics!\n",
    "nouns = Counter([n[0] for n in color_in_text if n[1] == 'NN'])\n",
    "total_nouns = sum(nouns.values())\n",
    "adjectives = Counter([a[0] for a in color_in_text if a[1] == 'JJ'])\n",
    "total_adjectives = sum(adjectives.values())\n",
    "total_color_words = len(color_in_text)\n",
    "pct_color_words = round((total_color_words/len(processed))*100, 2)\n",
    "\n",
    "print(\"There are %d nouns in our color word list:\" % total_nouns)\n",
    "print(nouns)\n",
    "print()\n",
    "print(\"And %d adjectives in our color word list:\" % total_adjectives)\n",
    "print(adjectives)\n",
    "print()\n",
    "print(\"%s is %s percent color words.\"% (title, pct_color_words))\n",
    "print(\"~%d percent of the color words are nouns.\" % round((total_nouns/total_color_words)*100, 1))\n",
    "print(\"~%d percent of the color words are adjectives.\" % round((total_adjectives/total_color_words)*100, 1))"
   ]
  },
  {
   "cell_type": "markdown",
   "metadata": {},
   "source": [
    "Next, we needed to isolate the color words from the text and do some analysis of the context to make sure there weren’t any glaring issues in the data we were generating.  Here Caroline’s literature background was extremely helpful in identifying what looked off, and I went off to pull out the context of the suspicious words so she could make a final call.\n",
    "\n",
    "Some examples of words we eliminated based on context were:\n",
    "Isabella, a yellowish color that was also the name of a couple of characters in our corpus;\n",
    "Imperial, a purple color that, in the texts actually meant the political structure, not the color; and\n",
    "Angry, sometimes used to describe a red-pink flushed color, but was used more an an emotion word than a color word.\n",
    "\n",
    "At this stage, I also experimented with stemming and lemmatization of the color words in our master list and in the texts themselves to see if that changed how many color words we were finding, rather than looking for exact matches.  What this means, for example, is transforming the word “whitish” from the OEDHT to its root, or stem (“white”) and doing the same to the words in the text we were analyzing. However, because the OEDHT is so comprehensive and already included many forms of each word, the results didn’t change much so we left out that step.\n",
    "\n",
    "Looking at the preliminary data, we also found that we got some combinations of color words, like “rose” followed by “red” or “milky” followed by “white”.  While OEDHT covers common combinations of these when they’re joined with a “-” (e.g. “rose-red”) we decided to isolate those examples in the output of the `find_color_words` to help us determine if we wanted to exclude those samples from the final analysis.\n"
   ]
  },
  {
   "cell_type": "markdown",
   "metadata": {},
   "source": [
    "### Analysis & Visualization - the (really) fun part\n",
    "With adjustments made to the color word list, we were ready to run the texts through our `find_color_words` function again to see the results. "
   ]
  },
  {
   "cell_type": "code",
   "execution_count": 84,
   "metadata": {},
   "outputs": [],
   "source": [
    "def group_to_plot(color_dict, c_i_t):\n",
    "    color_summary = defaultdict(int)\n",
    "    for c in c_i_t:\n",
    "        color_summary[color_dict[c[0]][0]] += 1\n",
    "    color_sum_a = dict(OrderedDict(sorted(color_summary.items(), key=lambda t: t[1])))\n",
    "    color_sum_d = dict(OrderedDict(sorted(color_summary.items(), key=lambda t: t[1], reverse=True)))\n",
    "    return color_sum_a, color_sum_d"
   ]
  },
  {
   "cell_type": "code",
   "execution_count": 85,
   "metadata": {},
   "outputs": [
    {
     "name": "stdout",
     "output_type": "stream",
     "text": [
      "{\n",
      " \"cadetblue\": 57,\n",
      " \"red\": 48,\n",
      " \"black\": 42,\n",
      " \"silver\": 30,\n",
      " \"lightseagreen\": 25,\n",
      " \"dimgrey\": 21,\n",
      " \"lightslategrey\": 20,\n",
      " \"pink\": 18,\n",
      " \"gold\": 15,\n",
      " \"white\": 14,\n",
      " \"blue\": 12,\n",
      " \"yellow\": 9,\n",
      " \"slategrey\": 5,\n",
      " \"darkgoldenrod\": 5,\n",
      " \"snow\": 4,\n",
      " \"darkred\": 4,\n",
      " \"purple\": 3,\n",
      " \"firebrick\": 3,\n",
      " \"crimson\": 3,\n",
      " \"papayawhip\": 2,\n",
      " \"green\": 2,\n",
      " \"floralwhite\": 1,\n",
      " \"darkblue\": 1,\n",
      " \"turquoise\": 1,\n",
      " \"lightyellow\": 1,\n",
      " \"whitesmoke\": 1,\n",
      " \"ivory\": 1,\n",
      " \"sienna\": 1,\n",
      " \"steelblue\": 1,\n",
      " \"blueviolet\": 1\n",
      "}\n"
     ]
    }
   ],
   "source": [
    "html_color_counts_asc, html_color_counts_dsc  = group_to_plot(color_dict, color_in_text)\n",
    "print (json.dumps(html_color_counts_dsc, indent=1))"
   ]
  },
  {
   "cell_type": "markdown",
   "metadata": {},
   "source": [
    "Let's use matplotlib to add a bar chart of the top 10 colors in the book."
   ]
  },
  {
   "cell_type": "code",
   "execution_count": 86,
   "metadata": {},
   "outputs": [
    {
     "data": {
      "image/png": "[encoded data removed]",
      "text/plain": [
       "<Figure size 432x288 with 1 Axes>"
      ]
     },
     "metadata": {},
     "output_type": "display_data"
    }
   ],
   "source": [
    "colors = list(html_color_counts_asc.keys())[-9:]\n",
    "counts = list(html_color_counts_asc.values())[-9:]\n",
    "y_pos = np.arange(len(counts))\n",
    "\n",
    "plt.barh(y_pos, counts, align='center', color=colors)\n",
    "plt.yticks(y_pos, colors)\n",
    "plt.xlabel('# times evoked')\n",
    "plt.title('Top 10 HTML colors in ' + title)\n",
    "\n",
    "plt.show()"
   ]
  },
  {
   "cell_type": "markdown",
   "metadata": {},
   "source": [
    "There are many of interesting options for visualizing this data. The original talk included a [website](https://afternoon-taiga-69837.herokuapp.com/), built with the Django framework and ChartJS and lots of CSS where - using a slightly different methodology - we visualized each book as a series of color blocks in their order of appearance, and each author's works as a radial chart.\n",
    "\n",
    "<img src='phantom.png'>"
   ]
  },
  {
   "cell_type": "markdown",
   "metadata": {},
   "source": [
    "### Beyond this post\n",
    "If you take a few minutes to explore the website, even with the limitations of HTML color applied to a broad palette, you’ll see that a lot of the books are not as dark and gloomy as their “gothic” label might lead you to believe.  This makes sense: the supernatural is a strong theme in Gothic, but so is contrasting it with the beauty of natural world that was considered both a haven and a dwindling reality as the industrial revolution began.\n",
    "\n",
    "There is so many ways that computing could be used for humanities scholarship to complement the strong traditions already there.  If you’d like to learn more about this project after reviewing , please [watch the original talk](https://www.youtube.com/watch?v=3dDtACSYVx0) and [visit the website](https://afternoon-taiga-69837.herokuapp.com/), check out the [repo and the corpus](https://github.com/eleanorstrib/gothic).  If you prefer to work with more recent literature, check out my 2018 project where I [explain and quantify gender bias in the Harry Potter series using Python](https://medium.com/agatha-codes/a-bossy-sort-of-voice-3c3a18de3093). \n"
   ]
  }
 ],
 "metadata": {
  "kernelspec": {
   "display_name": "Python 3",
   "language": "python",
   "name": "python3"
  },
  "language_info": {
   "codemirror_mode": {
    "name": "ipython",
    "version": 3
   },
   "file_extension": ".py",
   "mimetype": "text/x-python",
   "name": "python",
   "nbconvert_exporter": "python",
   "pygments_lexer": "ipython3",
   "version": "3.6.5"
  }
 },
 "nbformat": 4,
 "nbformat_minor": 2
}
