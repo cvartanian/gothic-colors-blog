{
 "cells": [
  {
   "cell_type": "code",
   "execution_count": 96,
   "metadata": {
    "collapsed": false
   },
   "outputs": [],
   "source": [
    "import string\n",
    "import nltk\n",
    "import csv\n",
    "import matplotlib.pyplot as plt\n",
    "import numpy as np\n",
    "from collections import Counter, defaultdict\n",
    "from nltk import pos_tag\n",
    "from nltk.corpus import stopwords\n",
    "from nltk.tokenize import word_tokenize"
   ]
  },
  {
   "cell_type": "code",
   "execution_count": 114,
   "metadata": {
    "collapsed": true
   },
   "outputs": [],
   "source": [
    "title_file = 'Leroux_ThePhantomOfTheOpera_Gutenberg.txt'\n",
    "title = \"The Phantom of the Opera\""
   ]
  },
  {
   "cell_type": "code",
   "execution_count": 115,
   "metadata": {
    "collapsed": false
   },
   "outputs": [],
   "source": [
    "def tokenize_text(filename):\n",
    "    \"\"\"\n",
    "    This function generates a list of tokens with punctuation\n",
    "    stopwords, and spaces removed for the whole text.\n",
    "    \"\"\"\n",
    "    text_tokens = []\n",
    "\n",
    "    file_path = \"./corpora/\" + filename\n",
    "    stop = list(set(stopwords.words('english')))\n",
    "    punc = [p for p in string.punctuation]\n",
    "    stop_punc = stop + punc + [\"''\", '``']\n",
    "\n",
    "    text = open(file_path, 'r')\n",
    "\n",
    "    for row in text:\n",
    "        tokens = pos_tag(word_tokenize(row.lower()))\n",
    "        if len(tokens) is not 0:\n",
    "            # puts everything in lowercase, removes punctuation and stopwords\n",
    "            tokens = [token for token in tokens if token[0] not in stop_punc]\n",
    "            # adds row tokens to master list\n",
    "            text_tokens.extend(tokens)\n",
    "\n",
    "    return text_tokens"
   ]
  },
  {
   "cell_type": "code",
   "execution_count": 117,
   "metadata": {
    "collapsed": false
   },
   "outputs": [],
   "source": [
    "tokenized = tokenize_text(title_file)"
   ]
  },
  {
   "cell_type": "code",
   "execution_count": 99,
   "metadata": {
    "collapsed": false
   },
   "outputs": [
    {
     "name": "stdout",
     "output_type": "stream",
     "text": [
      "[('memoirs', 'NNS'), ('manager', 'NN'), ('light', 'NN'), ('frivolous', 'JJ'), ('work', 'NN'), ('too-skeptical', 'JJ'), ('moncharmin', 'NN'), ('term', 'NN'), ('opera', 'NN'), ('understood', 'JJ'), ('nothing', 'NN'), ('mysterious', 'JJ'), ('behavior', 'NN'), ('ghost', 'NN'), ('making', 'VBG'), ('fun', 'NN'), ('could', 'MD'), ('moment', 'NN'), ('became', 'VBD'), ('first', 'JJ')]\n"
     ]
    }
   ],
   "source": [
    "print(tokenized[300:320])"
   ]
  },
  {
   "cell_type": "code",
   "execution_count": 152,
   "metadata": {
    "collapsed": false
   },
   "outputs": [],
   "source": [
    "def id_color_words():\n",
    "    \"\"\"\n",
    "    Gets color words from the csv file and puts them into a dict where key = word\n",
    "    and value = (hex value, color family).\n",
    "    \"\"\"\n",
    "    color_word_dict = {}\n",
    "    modern_color_words = []\n",
    "    color_data = csv.reader(open('./color_names.csv'), delimiter=\",\", quotechar='\"')\n",
    "    next(color_data, None)\n",
    "\n",
    "    for row in color_data:\n",
    "        name = row[0].lower()\n",
    "        year = int(row[1])\n",
    "        if ' ' not in name:\n",
    "            if year < 1914:\n",
    "                family = row[2].lower()\n",
    "                hex_value = row[3].lower()\n",
    "                color_word_dict[name] = (hex_value, family)\n",
    "            else:\n",
    "                modern_color_words.append((year, name))\n",
    "                   \n",
    "    return color_word_dict, modern_color_words"
   ]
  },
  {
   "cell_type": "code",
   "execution_count": 153,
   "metadata": {
    "collapsed": false
   },
   "outputs": [
    {
     "name": "stdout",
     "output_type": "stream",
     "text": [
      "There are 980 color words in our dictionary that were in use before 1914, per the OED.\n",
      "\n",
      "Here is a sample - first value is the HTML color, the second is the color family.\n",
      "flammeous : ('orangered', 'orange-red')\n",
      "rosen : ('pink', 'rose-red or pink')\n",
      "rose-red : ('pink', 'rose-red or pink')\n",
      "rosy : ('pink', 'rose-red or pink')\n",
      "roseate : ('pink', 'rose-red or pink')\n",
      "roset : ('pink', 'rose-red or pink')\n",
      "rosing : ('pink', 'rose-red or pink')\n",
      "rose-coloured : ('pink', 'rose-red or pink')\n",
      "rose-like : ('pink', 'rose-red or pink')\n",
      "roseal : ('pink', 'rose-red or pink')\n",
      "rosal : ('pink', 'rose-red or pink')\n",
      "rosy-fingered : ('pink', 'rose-red or pink')\n",
      "carnation : ('pink', 'pale-red or pink')\n",
      "damask : ('pink', 'rose-red or pink')\n",
      "rosied : ('red', 'made red')\n",
      "damasked : ('pink', 'rose-red or pink')\n",
      "roseac : ('pink', 'rose-red or pink')\n",
      "rose : ('pink', 'rose-red or pink')\n",
      "rosaceous : ('pink', 'rose-red or pink')\n",
      "rose-tinted : ('pink', 'rose-red or pink')\n",
      "blush-rose : ('pink', 'rose-red or pink')\n",
      "incarnate : ('pink', 'pale-red or pink')\n",
      "fleshy : ('pink', 'pale-red or pink')\n",
      "incarnation : ('pink', 'pale-red or pink')\n",
      "pallet : ('pink', 'pale-red or pink')\n",
      "peach : ('pink', 'pale-red or pink')\n",
      "bepurfurate : ('pink', 'pale-red or pink')\n",
      "blush : ('pink', 'pale-red or pink')\n",
      "peachy : ('pink', 'pale-red or pink')\n",
      "peach-coloured : ('pink', 'pale-red or pink')\n",
      "pink-coloured : ('pink', 'pale-red or pink')\n",
      "blush-coloured : ('pink', 'pale-red or pink')\n",
      "blushy : ('pink', 'pale-red or pink')\n",
      "gridelin : ('plum', 'light purple')\n",
      "carnationed : ('red', 'made red')\n",
      "pinky : ('pink', 'pale-red or pink')\n",
      "carneous : ('pink', 'pale-red or pink')\n",
      "flesh-coloured : ('pink', 'pale-red or pink')\n",
      "flesh-colour : ('pink', 'pale-red or pink')\n",
      "mushroom-coloured : ('pink', 'pale-red or pink')\n"
     ]
    }
   ],
   "source": [
    "color_dict, modern_color_words = id_color_words()\n",
    "print(\"There are %d color words in our dictionary that were in use before 1914, per the OED.\" % len(color_dict))\n",
    "print()\n",
    "sample_colors = list(color_dict.keys())[300:340]\n",
    "print(\"Here is a sample - first value is the HTML color, the second is the color family.\")\n",
    "for s in sample_colors:\n",
    "    print(s, \":\", color_dict[s])"
   ]
  },
  {
   "cell_type": "code",
   "execution_count": 165,
   "metadata": {
    "collapsed": false
   },
   "outputs": [
    {
     "name": "stdout",
     "output_type": "stream",
     "text": [
      "NN, JJ ('mystery', 'NN') ('yellow', 'JJ')\n",
      "JJ, NN ('yellow', 'JJ') ('room', 'NN')\n",
      "NN, JJ ('lady', 'NN') ('black', 'JJ')\n",
      "JJ, NN ('black', 'JJ') ('contents', 'NNS')\n",
      "NN, JJ ('eyes', 'NNS') ('rose-red', 'JJ')\n",
      "JJ, NN ('rose-red', 'JJ') ('cheeks', 'NN')\n",
      "NN, JJ ('cheeks', 'NN') ('lily-white', 'JJ')\n",
      "JJ, NN ('lily-white', 'JJ') ('neck', 'NN')\n",
      "NN, JJ ('eyes', 'NNS') ('black', 'JJ')\n",
      "JJ, NN ('black', 'JJ') ('sloes', 'NNS')\n",
      "JJ, NN ('black', 'JJ') ('ink', 'NN')\n",
      "JJ, NN ('black', 'JJ') ('holes', 'NNS')\n",
      "NN, JJ ('drumhead', 'NN') ('white', 'JJ')\n",
      "JJ, NN ('coral', 'JJ') ('finger-ring', 'NN')\n",
      "JJ, NN ('pink', 'JJ') ('legs', 'NNS')\n",
      "JJ, NN ('blue', 'JJ') ('eyes', 'NNS')\n",
      "JJ, NN ('white', 'JJ') ('sheet', 'NN')\n",
      "JJ, NN ('black', 'JJ') ('cavities', 'NNS')\n",
      "JJ, NN ('black', 'JJ') ('ink', 'NN')\n",
      "NN, JJ ('paragraph', 'NN') ('red', 'JJ')\n",
      "JJ, NN ('red', 'JJ') ('ink', 'NN')\n",
      "JJ, NN ('red', 'JJ') ('ink', 'NN')\n",
      "JJ, NN ('red', 'JJ') ('ink', 'NN')\n",
      "JJ, NN ('red', 'JJ') ('handwriting', 'NN')\n",
      "JJ, NN ('blue', 'JJ') ('pencil', 'NN')\n",
      "JJ, NN ('purple', 'JJ') ('indignation', 'NN')\n",
      "NN, JJ ('stretch', 'NN') ('golden', 'JJ')\n",
      "JJ, NN ('golden', 'JJ') ('beach', 'NN')\n",
      "NN, JJ ('lady', 'NN') ('black', 'JJ')\n",
      "NN, JJ ('lady', 'NN') ('black', 'JJ')\n",
      "NN, JJ ('hair', 'NN') ('golden', 'JJ')\n",
      "JJ, NN ('golden', 'JJ') ('sun', 'NN')\n",
      "JJ, NN ('blue', 'JJ') ('eyes', 'NNS')\n",
      "JJ, NN ('red', 'JJ') ('shoes', 'NNS')\n",
      "JJ, NN ('blue', 'JJ') ('eyes', 'NNS')\n",
      "NN, JJ ('eyes', 'NNS') ('golden', 'JJ')\n",
      "JJ, NN ('golden', 'JJ') ('hair', 'NN')\n",
      "JJ, NN ('smoky', 'JJ') ('sitting-room', 'NN')\n",
      "JJ, NN ('white', 'JJ') ('ground', 'NN')\n",
      "JJ, NN ('red', 'JJ') ('roses', 'NNS')\n",
      "JJ, NN ('white', 'JJ') ('form', 'NN')\n",
      "JJ, NN ('white', 'JJ') ('form', 'NN')\n",
      "JJ, NN ('red', 'JJ') ('velvet', 'NN')\n",
      "JJ, NN ('glaucous', 'JJ') ('waves', 'NNS')\n",
      "NN, JJ ('world', 'NN') ('red', 'JJ')\n",
      "JJ, NN ('red', 'JJ') ('hangings', 'NNS')\n",
      "JJ, NN ('red', 'JJ') ('velvet', 'NN')\n",
      "NN, JJ ('cesar', 'NN') ('white', 'JJ')\n",
      "JJ, NN ('white', 'JJ') ('horse', 'NN')\n",
      "JJ, NN ('black', 'JJ') ('shadow', 'NN')\n",
      "JJ, NN ('white', 'JJ') ('horse', 'NN')\n",
      "NN, JJ ('sole', 'NN') ('black', 'JJ')\n",
      "JJ, NN ('black', 'JJ') ('taffeta', 'NN')\n",
      "JJ, NN ('red', 'JJ') ('ink', 'NN')\n",
      "NN, JJ ('song', 'NN') ('red', 'JJ')\n",
      "JJ, NN ('white', 'JJ') ('liquor', 'NN')\n",
      "JJ, NN ('white', 'JJ') ('eyes', 'NNS')\n",
      "NN, JJ ('lady', 'NN') ('white', 'JJ')\n",
      "JJ, NN ('white', 'JJ') ('hair', 'NN')\n",
      "JJ, NN ('black', 'JJ') ('spot', 'NN')\n",
      "NN, JJ ('spot', 'NN') ('white', 'JJ')\n",
      "JJ, NN ('white', 'JJ') ('road', 'NN')\n",
      "JJ, NN ('white', 'JJ') ('domino', 'NN')\n",
      "JJ, NN ('white', 'JJ') ('domino', 'NN')\n",
      "NN, JJ ('pierrot', 'NN') ('white', 'JJ')\n",
      "JJ, NN ('white', 'JJ') ('wrap', 'NN')\n",
      "NN, JJ ('way', 'NN') ('marble', 'JJ')\n",
      "JJ, NN ('marble', 'JJ') ('steps', 'NNS')\n",
      "JJ, NN ('black', 'JJ') ('domino', 'NN')\n",
      "NN, JJ ('teeth', 'NNS') ('black', 'JJ')\n",
      "JJ, NN ('black', 'JJ') ('domino', 'NN')\n",
      "NN, JJ ('absence', 'NN') ('black', 'JJ')\n",
      "JJ, NN ('black', 'JJ') ('domino', 'NN')\n",
      "JJ, NN ('white', 'JJ') ('domino', 'NN')\n",
      "JJ, NN ('red', 'JJ') ('death', 'NN')\n",
      "NN, JJ ('terror', 'NN') ('red', 'JJ')\n",
      "JJ, NN ('red', 'JJ') ('death', 'NN')\n",
      "NN, JJ ('christine', 'NN') ('black', 'JJ')\n",
      "JJ, NN ('black', 'JJ') ('domino', 'NN')\n",
      "NN, JJ ('crowd', 'NN') ('red', 'JJ')\n",
      "JJ, NN ('red', 'JJ') ('death', 'NN')\n",
      "JJ, NN ('black', 'JJ') ('domino', 'NN')\n",
      "JJ, NN ('black', 'JJ') ('domino', 'NN')\n",
      "JJ, NN ('white', 'JJ') ('domino', 'NN')\n",
      "NN, JJ ('floor', 'NN') ('red', 'JJ')\n",
      "JJ, NN ('red', 'JJ') ('foot', 'NN')\n",
      "NN, JJ ('dress', 'NN') ('red', 'JJ')\n",
      "JJ, NN ('red', 'JJ') ('death', 'NN')\n",
      "JJ, NN ('red', 'JJ') ('death', 'NN')\n",
      "NN, JJ ('barrier', 'NN') ('white', 'JJ')\n",
      "JJ, NN ('white', 'JJ') ('flesh', 'NN')\n",
      "JJ, NN ('red', 'JJ') ('death', 'NN')\n",
      "NN, JJ ('advantage', 'NN') ('candid', 'JJ')\n",
      "JJ, NN ('candid', 'JJ') ('affection', 'NN')\n",
      "NN, JJ ('ball', 'NN') ('red', 'JJ')\n",
      "JJ, NN ('red', 'JJ') ('death', 'NN')\n",
      "JJ, NN ('red', 'JJ') ('death', 'NN')\n",
      "JJ, NN ('red', 'JJ') ('death', 'NN')\n",
      "NN, JJ ('pink', 'NN') ('white', 'JJ')\n",
      "JJ, NN ('white', 'JJ') ('sheet', 'NN')\n",
      "JJ, NN ('black', 'JJ') ('hole', 'NN')\n",
      "NN, JJ ('streets', 'NNS') ('leaden', 'JJ')\n",
      "JJ, NN ('leaden', 'JJ') ('avenues', 'NNS')\n",
      "JJ, NN ('black', 'JJ') ('eye-sockets', 'NNS')\n",
      "JJ, NN ('black', 'JJ') ('wings', 'NNS')\n",
      "NN, JJ ('faint', 'NN') ('red', 'JJ')\n",
      "JJ, NN ('red', 'JJ') ('glimmer', 'NN')\n",
      "JJ, NN ('red', 'JJ') ('light', 'NN')\n",
      "NN, JJ ('man', 'NN') ('black', 'JJ')\n",
      "JJ, NN ('black', 'JJ') ('cloak', 'NN')\n",
      "NN, JJ ('cloak', 'NN') ('black', 'JJ')\n",
      "JJ, NN ('black', 'JJ') ('mask', 'NN')\n",
      "JJ, NN ('white', 'JJ') ('shape', 'NN')\n",
      "JJ, NN ('black', 'JJ') ('shape', 'NN')\n",
      "NN, JJ ('darkness', 'NN') ('black', 'JJ')\n",
      "JJ, NN ('black', 'JJ') ('shape', 'NN')\n",
      "JJ, NN ('white', 'JJ') ('shape', 'NN')\n",
      "JJ, NN ('white', 'JJ') ('horse', 'NN')\n",
      "JJ, NN ('white', 'JJ') ('horse', 'NN')\n",
      "JJ, NN ('black', 'JJ') ('shape', 'NN')\n",
      "JJ, NN ('red', 'JJ') ('mouths', 'NNS')\n",
      "JJ, NN ('black', 'JJ') ('demons', 'NNS')\n",
      "NN, JJ ('front', 'NN') ('red', 'JJ')\n",
      "JJ, NN ('red', 'JJ') ('fires', 'NNS')\n",
      "JJ, NN ('leaden', 'JJ') ('waters', 'NNS')\n",
      "NN, JJ ('darkness', 'NN') ('blue', 'JJ')\n",
      "JJ, NN ('blue', 'JJ') ('light', 'NN')\n",
      "JJ, NN ('black', 'JJ') ('shape', 'NN')\n",
      "NN, JJ ('standing', 'NN') ('marble', 'JJ')\n",
      "JJ, NN ('marble', 'JJ') ('top', 'NN')\n",
      "NN, JJ ('note', 'NN') ('red', 'JJ')\n",
      "JJ, NN ('red', 'JJ') ('ink', 'NN')\n",
      "NN, JJ ('hung', 'NN') ('black', 'JJ')\n",
      "JJ, NN ('white', 'JJ') ('trimmings', 'NNS')\n",
      "NN, JJ ('curtains', 'NNS') ('red', 'JJ')\n",
      "JJ, NN ('red', 'JJ') ('notes', 'NNS')\n",
      "JJ, NN ('black', 'JJ') ('mask', 'NN')\n",
      "JJ, NN ('red', 'JJ') ('death', 'NN')\n",
      "JJ, NN ('red', 'JJ') ('death', 'NN')\n",
      "JJ, NN ('black', 'JJ') ('holes', 'NNS')\n",
      "NN, JJ ('boat', 'NN') ('leaden', 'JJ')\n",
      "JJ, NN ('leaden', 'JJ') ('waters', 'NNS')\n",
      "JJ, NN ('black', 'JJ') ('cloak', 'NN')\n",
      "JJ, NN ('yellow', 'JJ') ('stars', 'NNS')\n",
      "JJ, NN ('blue', 'JJ') ('eyes', 'NNS')\n",
      "JJ, NN ('black', 'JJ') ('taffeta', 'NN')\n",
      "NN, JJ ('nodding', 'NN') ('black', 'JJ')\n",
      "JJ, NN ('black', 'JJ') ('feathers', 'NNS')\n",
      "JJ, NN ('red', 'JJ') ('ink', 'NN')\n",
      "JJ, NN ('black', 'JJ') ('feathers', 'NNS')\n",
      "JJ, NN ('red', 'JJ') ('moncharmin', 'NN')\n",
      "JJ, NN ('red', 'JJ') ('disk', 'NN')\n",
      "JJ, NN ('red', 'JJ') ('lantern', 'NN')\n",
      "JJ, NN ('yellow', 'JJ') ('eyes', 'NNS')\n",
      "JJ, NN ('yellow', 'JJ') ('eyes', 'NNS')\n",
      "JJ, NN ('red', 'JJ') ('moon', 'NN')\n",
      "JJ, NN ('red', 'JJ') ('disk', 'NN')\n",
      "JJ, NN ('black', 'JJ') ('ink', 'NN')\n",
      "JJ, NN ('rosy', 'JJ') ('hours', 'NNS')\n",
      "JJ, NN ('white', 'JJ') ('horse', 'NN')\n",
      "JJ, NN ('yellow', 'JJ') ('eyes', 'NNS')\n",
      "NN, JJ ('christine', 'NN') ('white', 'JJ')\n",
      "JJ, NN ('white', 'JJ') ('horse', 'NN')\n",
      "JJ, NN ('yellow', 'JJ') ('eyes', 'NNS')\n",
      "NN, JJ ('time', 'NN') ('rosy', 'JJ')\n",
      "JJ, NN ('rosy', 'JJ') ('hours', 'NNS')\n",
      "NN, JJ ('subject', 'NN') ('rosy', 'JJ')\n",
      "JJ, NN ('rosy', 'JJ') ('hours', 'NNS')\n",
      "NN, JJ ('torture-chamber', 'NN') ('rosy', 'JJ')\n",
      "JJ, NN ('rosy', 'JJ') ('hours', 'NNS')\n",
      "JJ, NN ('red', 'JJ') ('disk', 'NN')\n",
      "JJ, NN ('metallic', 'JJ') ('syllables', 'NNS')\n",
      "JJ, NN ('black', 'JJ') ('curtain', 'NN')\n",
      "NN, JJ ('time', 'NN') ('rosy', 'JJ')\n",
      "JJ, NN ('rosy', 'JJ') ('hours', 'NNS')\n",
      "JJ, NN ('golden', 'JJ') ('throat', 'NN')\n",
      "NN, JJ ('time', 'NN') ('rosy', 'JJ')\n",
      "JJ, NN ('rosy', 'JJ') ('hours', 'NNS')\n",
      "NN, JJ ('victims', 'NNS') ('rosy', 'JJ')\n",
      "JJ, NN ('rosy', 'JJ') ('hours', 'NNS')\n",
      "JJ, NN ('blue', 'JJ') ('rays', 'NNS')\n",
      "JJ, NN ('black', 'JJ') ('hole', 'NN')\n",
      "JJ, NN ('pitchy', 'JJ') ('darkness', 'NN')\n",
      "NN, JJ ('mask', 'NN') ('yellow', 'JJ')\n",
      "JJ, NN ('yellow', 'JJ') ('eyes', 'NNS')\n",
      "NN, JJ ('time', 'NN') ('rosy', 'JJ')\n",
      "JJ, NN ('rosy', 'JJ') ('hours', 'NNS')\n",
      "NN, JJ ('shells', 'NNS') ('red', 'JJ')\n",
      "JJ, NN ('red', 'JJ') ('pin-cushions', 'NNS')\n",
      "JJ, NN ('white', 'JJ') ('wax', 'NN')\n",
      "JJ, NN ('blue', 'JJ') ('eyes', 'NNS')\n",
      "JJ, NN ('red', 'JJ') ('ink', 'NN')\n",
      "NN, JJ ('time', 'NN') ('rosy', 'JJ')\n",
      "JJ, NN ('rosy', 'JJ') ('hours', 'NNS')\n",
      "JJ, NN ('yellow', 'JJ') ('eyes', 'NNS')\n",
      "JJ, NN ('golden', 'JJ') ('lyre', 'NN')\n",
      "NN, JJ ('steps', 'NNS') ('green', 'JJ')\n",
      "JJ, NN ('marble', 'JJ') ('lead', 'NN')\n",
      "NN, JJ ('stone', 'NN') ('white', 'JJ')\n",
      "JJ, NN ('marble', 'JJ') ('capitals', 'NNS')\n",
      "NN, JJ ('steps', 'NNS') ('white', 'JJ')\n",
      "JJ, NN ('white', 'JJ') ('marble', 'NN')\n",
      "JJ, NN ('marble', 'JJ') ('balusters', 'NNS')\n",
      "JJ, NN ('marble', 'JJ') ('sockets', 'NNS')\n",
      "NN, JJ ('marble', 'NN') ('white', 'JJ')\n",
      "JJ, NN ('marble', 'JJ') ('bases', 'NNS')\n"
     ]
    }
   ],
   "source": [
    "def word_order(t, color_dict):\n",
    "    colors = color_dict.keys()\n",
    "    for i in range(len(t)-1):\n",
    "        if 'JJ' in t[i][1] and 'NN' in t[i+1][1] and t[i][0] in colors:\n",
    "            print(\"JJ, NN\", t[i], t[i + 1])\n",
    "        elif'JJ' in t[i+1][1] and 'NN' in t[i][1] and t[i+1][0] in colors:\n",
    "            print(\"NN, JJ\", t[i], t[i + 1])\n",
    "word_order(tokenized, color_dict)"
   ]
  },
  {
   "cell_type": "code",
   "execution_count": 102,
   "metadata": {
    "collapsed": false
   },
   "outputs": [
    {
     "name": "stdout",
     "output_type": "stream",
     "text": [
      "Here are the post-1914 words and the year of first usage according to the Oxford English Dictionary.\n",
      "The 20th century ushered in food-related color words including avocado, citron, cocoa, mustard, pimento & toffee.\n",
      "\n",
      "[(1918, 'oxblood'), (1918, 'jacobean'), (1918, 'shadow-grey'), (1919, 'mustard'), (1921, 'tony'), (1921, 'pimento'), (1922, 'nude'), (1922, 'straw-pale'), (1923, 'alizarin'), (1923, 'sahara'), (1923, 'blue-brilliant'), (1923, 'sahara'), (1924, 'citron'), (1924, 'hennaed'), (1927, 'greige'), (1928, 'mimosa'), (1931, 'off-white'), (1931, 'magnolia-pink'), (1934, 'safari'), (1935, 'salmony'), (1937, 'seaweed-green'), (1938, 'guinea-gold'), (1941, 'xanthophyllic'), (1941, 'prune-dark'), (1942, 'cocoa'), (1946, 'whale-blue'), (1947, 'avocado'), (1949, 'saffronic'), (1950, 'wine'), (1951, 'bone-coloured'), (1953, 'bible-black'), (1953, 'pinko-grey'), (1961, 'toffee-brown'), (1962, 'toffee'), (1962, 'peppery'), (1963, 'pimiento'), (1963, 'magnolia'), (1965, 'lily-green'), (1965, 'nutmeg'), (1970, 'flame'), (1971, 'sunshine-yellow'), (1975, 'wheaten'), (1975, 'sludgy'), (1977, 'tangerine-coloured'), (1978, 'spun-golden'), (1981, 'pepperminty'), (1991, 'mango')]\n"
     ]
    }
   ],
   "source": [
    "print(\"Here are the post-1914 words and the year of first usage according to the Oxford English Dictionary.\")\n",
    "print(\"The 20th century ushered in food-related color words including avocado, citron, cocoa, mustard, pimento & toffee.\")\n",
    "print()\n",
    "print(sorted(modern_color_words, key=lambda x: x[0]))"
   ]
  },
  {
   "cell_type": "code",
   "execution_count": 103,
   "metadata": {
    "collapsed": true
   },
   "outputs": [],
   "source": [
    "def color_words(c_dict, text):\n",
    "    tags = ['NN', 'JJ']\n",
    "    color_names = list(c_dict.keys())\n",
    "    color_words = [w for w in text if w[0] in color_names and w[1] in tags]\n",
    "    \n",
    "    return color_words"
   ]
  },
  {
   "cell_type": "code",
   "execution_count": 104,
   "metadata": {
    "collapsed": false
   },
   "outputs": [],
   "source": [
    "color_in_text = color_words(color_dict, tokenized)"
   ]
  },
  {
   "cell_type": "code",
   "execution_count": 105,
   "metadata": {
    "collapsed": false
   },
   "outputs": [
    {
     "name": "stdout",
     "output_type": "stream",
     "text": [
      "[('yellow', 'JJ'), ('black', 'JJ'), ('mourning', 'NN'), ('rose-red', 'JJ'), ('lily-white', 'JJ'), ('black', 'JJ'), ('black', 'JJ'), ('black', 'JJ'), ('white', 'JJ'), ('yellow', 'NN'), ('plum', 'NN'), ('glass', 'NN'), ('red', 'JJ'), ('coral', 'JJ'), ('pink', 'NN')]\n"
     ]
    }
   ],
   "source": [
    "print(color_in_text[:15])"
   ]
  },
  {
   "cell_type": "code",
   "execution_count": 106,
   "metadata": {
    "collapsed": false
   },
   "outputs": [],
   "source": [
    "nouns = Counter([n[0] for n in color_in_text if n[1] == 'NN'])\n",
    "adjectives = Counter([a[0] for a in color_in_text if a[1] == 'JJ'])"
   ]
  },
  {
   "cell_type": "code",
   "execution_count": 107,
   "metadata": {
    "collapsed": false
   },
   "outputs": [
    {
     "name": "stdout",
     "output_type": "stream",
     "text": [
      "*** Nouns ***\n",
      "Counter({'water': 56, 'glass': 24, 'iron': 20, 'stone': 19, 'gold': 10, 'bronze': 5, 'pink': 4, 'snow': 4, 'marble': 4, 'rush': 3, 'crimson': 3, 'champagne': 2, 'wan': 2, 'blush': 2, 'scarlet': 2, 'bluey': 2, 'mahogany': 2, 'mourning': 1, 'yellow': 1, 'plum': 1, 'navy': 1, 'peacock': 1, 'straw': 1, 'ivory': 1, 'copper': 1, 'chocolate': 1, 'blue': 1, 'candid': 1, 'purple': 1, 'incarnate': 1, 'mole': 1, 'inky': 1, 'stony': 1, 'gunpowder': 1, 'violet': 1})\n",
      "*** Adjectives ***\n",
      "Counter({'red': 45, 'black': 40, 'white': 30, 'rosy': 9, 'yellow': 8, 'blue': 8, 'marble': 7, 'golden': 5, 'leaden': 3, 'candid': 2, 'green': 2, 'rose-red': 1, 'lily-white': 1, 'coral': 1, 'pink': 1, 'purple': 1, 'smoky': 1, 'glaucous': 1, 'rusty': 1, 'metallic': 1, 'pitchy': 1})\n"
     ]
    }
   ],
   "source": [
    "print(\"*** Nouns ***\")\n",
    "print(nouns)\n",
    "print(\"*** Adjectives ***\")\n",
    "print(adjectives)"
   ]
  },
  {
   "cell_type": "code",
   "execution_count": 128,
   "metadata": {
    "collapsed": false
   },
   "outputs": [
    {
     "name": "stdout",
     "output_type": "stream",
     "text": [
      "The Phantom of the Opera is 0.84 percent color words.\n"
     ]
    }
   ],
   "source": [
    "pct_color_words = round((len(color_in_text)/len(tokenized))*100, 2)\n",
    "print(\"%s is %s percent color words.\"% (title, pct_color_words))"
   ]
  },
  {
   "cell_type": "code",
   "execution_count": 129,
   "metadata": {
    "collapsed": false
   },
   "outputs": [],
   "source": [
    "def group_to_plot(color_dict, c_i_t):\n",
    "    color_summary = defaultdict(int)\n",
    "    for c in c_i_t:\n",
    "        color_summary[color_dict[c[0]][0]] += 1\n",
    "    color_sum = OrderedDict(sorted(color_summary.items(), key=lambda t: t[1]))\n",
    "    return color_sum"
   ]
  },
  {
   "cell_type": "code",
   "execution_count": 130,
   "metadata": {
    "collapsed": false
   },
   "outputs": [
    {
     "name": "stdout",
     "output_type": "stream",
     "text": [
      "OrderedDict([('floralwhite', 1), ('darkblue', 1), ('turquoise', 1), ('lightyellow', 1), ('whitesmoke', 1), ('ivory', 1), ('sienna', 1), ('steelblue', 1), ('blueviolet', 1), ('papayawhip', 2), ('green', 2), ('purple', 3), ('firebrick', 3), ('crimson', 3), ('snow', 4), ('darkred', 4), ('slategrey', 5), ('darkgoldenrod', 5), ('yellow', 9), ('blue', 12), ('white', 14), ('gold', 15), ('pink', 18), ('lightslategrey', 20), ('dimgrey', 21), ('lightseagreen', 25), ('silver', 30), ('black', 42), ('red', 48), ('cadetblue', 57)])\n"
     ]
    }
   ],
   "source": [
    "html_color_counts = group_to_plot(color_dict, color_in_text)\n",
    "print(html_color_counts)"
   ]
  },
  {
   "cell_type": "code",
   "execution_count": 131,
   "metadata": {
    "collapsed": false
   },
   "outputs": [
    {
     "data": {
      "image/png": "[encoded data removed]",
      "text/plain": [
       "<Figure size 432x288 with 1 Axes>"
      ]
     },
     "metadata": {},
     "output_type": "display_data"
    }
   ],
   "source": [
    "colors = list(html_color_counts.keys())\n",
    "counts = list(html_color_counts.values())\n",
    "y_pos = np.arange(len(counts))\n",
    "\n",
    "plt.barh(y_pos, counts, align='center', alpha=0.9, color=colors)\n",
    "plt.yticks(y_pos, colors)\n",
    "plt.xlabel('# references')\n",
    "plt.title('HTML colors from ' + title)\n",
    " \n",
    "plt.show()"
   ]
  },
  {
   "cell_type": "code",
   "execution_count": 148,
   "metadata": {
    "collapsed": false
   },
   "outputs": [
    {
     "data": {
      "image/png": "[encoded data removed]",
      "text/plain": [
       "<Figure size 432x288 with 1 Axes>"
      ]
     },
     "metadata": {},
     "output_type": "display_data"
    }
   ],
   "source": [
    "color_labels = [c[0] for c in color_in_text]\n",
    "html_color_list = [color_dict[c][0] for c in color_labels]\n",
    "\n",
    "cmap = html_color_list\n",
    "bounds = [0,10,20]\n",
    "\n",
    "fig, ax = plt.subplots()\n",
    "ax.grid(which='major', linestyle='-', color='red', linewidth=2)\n",
    "ax.set_xticks(np.arange(0, 25, 1));\n",
    "ax.set_yticks(np.arange(0, 25, 1));\n",
    "\n",
    "plt.show()"
   ]
  },
  {
   "cell_type": "code",
   "execution_count": null,
   "metadata": {
    "collapsed": true
   },
   "outputs": [],
   "source": []
  }
 ],
 "metadata": {
  "kernelspec": {
   "display_name": "Python [conda env:potter]",
   "language": "python",
   "name": "conda-env-potter-py"
  },
  "language_info": {
   "codemirror_mode": {
    "name": "ipython",
    "version": 3
   },
   "file_extension": ".py",
   "mimetype": "text/x-python",
   "name": "python",
   "nbconvert_exporter": "python",
   "pygments_lexer": "ipython3",
   "version": "3.6.2"
  }
 },
 "nbformat": 4,
 "nbformat_minor": 2
}
