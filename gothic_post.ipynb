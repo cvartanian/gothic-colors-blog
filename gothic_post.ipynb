{
 "cells": [
  {
   "cell_type": "code",
   "execution_count": 1,
   "metadata": {
    "collapsed": true
   },
   "outputs": [],
   "source": [
    "import string\n",
    "import nltk\n",
    "import csv\n",
    "from collections import Counter\n",
    "from nltk.corpus import stopwords\n",
    "from nltk.tokenize import word_tokenize\n",
    "from nltk.stem import WordNetLemmatizer"
   ]
  },
  {
   "cell_type": "code",
   "execution_count": 2,
   "metadata": {
    "collapsed": false
   },
   "outputs": [],
   "source": [
    "def tokenize_text(filename):\n",
    "    \"\"\"\n",
    "    This function generates a list of tokens with punctuation\n",
    "    stopwords, and spaces removed for the whole text.\n",
    "    \"\"\"\n",
    "    text_tokens = []\n",
    "\n",
    "    file_path = \"./corpora/\" + filename\n",
    "    stop = list(set(stopwords.words('english')))\n",
    "    punc = [p for p in string.punctuation]\n",
    "    stop_punc = stop + punc + [\"''\", '``']\n",
    "    text = open(file_path, 'r')\n",
    "\n",
    "    for row in text:\n",
    "        tokens = word_tokenize(row)# splits string\n",
    "        if len(tokens) is not 0:\n",
    "            # puts everything in lowercase, removes punctuation and stopwords\n",
    "            tokens = [token.lower() for token in tokens if token not in stop_punc]\n",
    "            # adds row tokens to master list\n",
    "            text_tokens.extend(tokens)\n",
    "\n",
    "    return text_tokens"
   ]
  },
  {
   "cell_type": "code",
   "execution_count": 3,
   "metadata": {
    "collapsed": false
   },
   "outputs": [],
   "source": [
    "tokenized = tokenize_text('Leroux_ThePhantomOfTheOpera_Gutenberg.txt')"
   ]
  },
  {
   "cell_type": "code",
   "execution_count": 4,
   "metadata": {
    "collapsed": true
   },
   "outputs": [],
   "source": [
    "def get_color_words():\n",
    "    \"\"\"\n",
    "    Gets color words from the csv file and puts them into a dict where key = word\n",
    "    and value = hex value.\n",
    "    \"\"\"\n",
    "    color_word_dict = {}\n",
    "    color_data = csv.reader(open('./color_names.csv'), delimiter=\",\", quotechar='\"')\n",
    "\n",
    "    for row in color_data:\n",
    "        if row[0] != \"Colour Name\":\n",
    "            name = row[0].lower()\n",
    "            family = row[2].lower()\n",
    "            hex_value = row[3].lower()\n",
    "            color_word_dict[name] = (hex_value, family)\n",
    "    return color_word_dict"
   ]
  },
  {
   "cell_type": "code",
   "execution_count": 5,
   "metadata": {
    "collapsed": false
   },
   "outputs": [
    {
     "name": "stdout",
     "output_type": "stream",
     "text": [
      "There are 1095 color words in our dictionary.\n",
      "\n",
      "Here is a sample - first value is the HTML color, the second is the color family.\n",
      "rush : ('darkred', 'brownish-red')\n",
      "brickdust-like : ('darkred', 'brownish-red')\n",
      "brickdusty : ('darkred', 'brownish-red')\n",
      "chestnut-red : ('darkred', 'brownish-red')\n",
      "terra-cotta : ('darkred', 'brownish-red')\n",
      "copper-red : ('darkred', 'brownish-red')\n",
      "bricky : ('darkred', 'brownish-red')\n",
      "brickish : ('darkred', 'brownish-red')\n",
      "fox-red : ('darkred', 'brownish-red')\n",
      "oxblood : ('darkred', 'brownish-red')\n",
      "tony : ('darkred', 'brownish-red')\n",
      "mahogany-red : ('darkred', 'brownish-red')\n",
      "roan : ('lightsalmon', 'yellowish-red')\n",
      "sherry-red : ('lightsalmon', 'yellowish-red')\n",
      "port-winey : ('lightsalmon', 'yellowish-red')\n",
      "fire-red : ('orangered', 'orange-red')\n",
      "flame-red : ('orangered', 'orange-red')\n",
      "flammid : ('orangered', 'orange-red')\n",
      "flammeous : ('orangered', 'orange-red')\n",
      "pimento : ('orangered', 'orange-red')\n"
     ]
    }
   ],
   "source": [
    "color_dict = get_color_words()\n",
    "print(\"There are %d color words in our dictionary.\" % len(color_dict))\n",
    "print()\n",
    "sample_colors = list(color_dict.keys())[300:320]\n",
    "print(\"Here is a sample - first value is the HTML color, the second is the color family.\")\n",
    "for s in sample_colors:\n",
    "    print(s, \":\", color_dict[s])"
   ]
  },
  {
   "cell_type": "code",
   "execution_count": null,
   "metadata": {
    "collapsed": true
   },
   "outputs": [],
   "source": []
  },
  {
   "cell_type": "code",
   "execution_count": null,
   "metadata": {
    "collapsed": true
   },
   "outputs": [],
   "source": []
  }
 ],
 "metadata": {
  "kernelspec": {
   "display_name": "Python [conda env:potter]",
   "language": "python",
   "name": "conda-env-potter-py"
  },
  "language_info": {
   "codemirror_mode": {
    "name": "ipython",
    "version": 3
   },
   "file_extension": ".py",
   "mimetype": "text/x-python",
   "name": "python",
   "nbconvert_exporter": "python",
   "pygments_lexer": "ipython3",
   "version": "3.6.2"
  }
 },
 "nbformat": 4,
 "nbformat_minor": 2
}
