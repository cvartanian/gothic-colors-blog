{
 "cells": [
  {
   "cell_type": "code",
   "execution_count": 2,
   "metadata": {
    "collapsed": false
   },
   "outputs": [],
   "source": [
    "import string\n",
    "import nltk\n",
    "import csv\n",
    "from collections import Counter\n",
    "from nltk import pos_tag\n",
    "from nltk.corpus import stopwords\n",
    "from nltk.tokenize import word_tokenize\n",
    "from nltk.stem import WordNetLemmatizer"
   ]
  },
  {
   "cell_type": "code",
   "execution_count": 3,
   "metadata": {
    "collapsed": false
   },
   "outputs": [],
   "source": [
    "def tokenize_text(filename):\n",
    "    \"\"\"\n",
    "    This function generates a list of tokens with punctuation\n",
    "    stopwords, and spaces removed for the whole text.\n",
    "    \"\"\"\n",
    "    text_tokens = []\n",
    "\n",
    "    file_path = \"./corpora/\" + filename\n",
    "    stop = list(set(stopwords.words('english')))\n",
    "    punc = [p for p in string.punctuation]\n",
    "    stop_punc = stop + punc + [\"''\", '``']\n",
    "\n",
    "    text = open(file_path, 'r')\n",
    "\n",
    "    for row in text:\n",
    "        tokens = pos_tag(word_tokenize(row.lower()))\n",
    "        if len(tokens) is not 0:\n",
    "            # puts everything in lowercase, removes punctuation and stopwords\n",
    "            tokens = [token for token in tokens if token[0] not in stop_punc]\n",
    "            # adds row tokens to master list\n",
    "            text_tokens.extend(tokens)\n",
    "\n",
    "    return text_tokens"
   ]
  },
  {
   "cell_type": "code",
   "execution_count": 4,
   "metadata": {
    "collapsed": false
   },
   "outputs": [],
   "source": [
    "tokenized = tokenize_text('ShelleyMary_Frankenstein_Gutenberg.txt')"
   ]
  },
  {
   "cell_type": "code",
   "execution_count": 5,
   "metadata": {
    "collapsed": false
   },
   "outputs": [
    {
     "name": "stdout",
     "output_type": "stream",
     "text": [
      "[('visions', 'NNS'), ('faded', 'VBD'), ('perused', 'VBD'), ('first', 'JJ'), ('time', 'NN'), ('poets', 'NNS'), ('whose', 'WP$'), ('effusions', 'NNS'), ('entranced', 'VBD'), ('soul', 'NN'), ('lifted', 'VBD'), ('heaven', 'VB'), ('also', 'RB')]\n"
     ]
    }
   ],
   "source": [
    "print(tokenized[308:321])"
   ]
  },
  {
   "cell_type": "code",
   "execution_count": 6,
   "metadata": {
    "collapsed": false
   },
   "outputs": [],
   "source": [
    "def get_color_words():\n",
    "    \"\"\"\n",
    "    Gets color words from the csv file and puts them into a dict where key = word\n",
    "    and value = hex value.\n",
    "    \"\"\"\n",
    "    color_word_dict = {}\n",
    "    modern_color_words = []\n",
    "    color_data = csv.reader(open('./color_names.csv'), delimiter=\",\", quotechar='\"')\n",
    "    next(color_data, None)\n",
    "\n",
    "    for row in color_data:\n",
    "        name = row[0].lower()\n",
    "        year = int(row[1])\n",
    "        if ' ' not in name:\n",
    "            if year < 1914:\n",
    "                family = row[2].lower()\n",
    "                hex_value = row[3].lower()\n",
    "                color_word_dict[name] = (hex_value, family)\n",
    "            else:\n",
    "                modern_color_words.append((year, name))\n",
    "                   \n",
    "    return color_word_dict, modern_color_words"
   ]
  },
  {
   "cell_type": "code",
   "execution_count": 7,
   "metadata": {
    "collapsed": false
   },
   "outputs": [
    {
     "name": "stdout",
     "output_type": "stream",
     "text": [
      "There are 980 color words in our dictionary that were in use before 1914, per the OED.\n",
      "\n",
      "Here is a sample - first value is the HTML color, the second is the color family.\n",
      "greensome : ('green', 'greenish')\n",
      "greenery : ('green', 'greenish')\n",
      "smaragdine : ('mediumseagreen', 'bright green')\n",
      "emerald-green : ('mediumseagreen', 'bright green')\n",
      "emeraldine : ('mediumseagreen', 'bright green')\n",
      "lime-green : ('mediumseagreen', 'bright green')\n",
      "twig-green : ('mediumseagreen', 'bright green')\n",
      "steel-green : ('darkgreen', 'dark green')\n",
      "bottle-green : ('darkgreen', 'dark green')\n",
      "corbeau : ('darkgreen', 'dark green')\n"
     ]
    }
   ],
   "source": [
    "color_dict, modern_color_words = get_color_words()\n",
    "print(\"There are %d color words in our dictionary that were in use before 1914, per the OED.\" % len(color_dict))\n",
    "print()\n",
    "sample_colors = list(color_dict.keys())[400:410]\n",
    "print(\"Here is a sample - first value is the HTML color, the second is the color family.\")\n",
    "for s in sample_colors:\n",
    "    print(s, \":\", color_dict[s])"
   ]
  },
  {
   "cell_type": "code",
   "execution_count": 8,
   "metadata": {
    "collapsed": false
   },
   "outputs": [
    {
     "name": "stdout",
     "output_type": "stream",
     "text": [
      "Here are the post-1914 words and the year of first usage according to the Oxford English Dictionary.\n",
      "The 20th century ushered in food-related color words including avocado, citron, cocoa, mustard, pimento & toffee.\n",
      "\n",
      "[(1918, 'oxblood'), (1918, 'jacobean'), (1918, 'shadow-grey'), (1919, 'mustard'), (1921, 'tony'), (1921, 'pimento'), (1922, 'nude'), (1922, 'straw-pale'), (1923, 'alizarin'), (1923, 'sahara'), (1923, 'blue-brilliant'), (1923, 'sahara'), (1924, 'citron'), (1924, 'hennaed'), (1927, 'greige'), (1928, 'mimosa'), (1931, 'off-white'), (1931, 'magnolia-pink'), (1934, 'safari'), (1935, 'salmony'), (1937, 'seaweed-green'), (1938, 'guinea-gold'), (1941, 'xanthophyllic'), (1941, 'prune-dark'), (1942, 'cocoa'), (1946, 'whale-blue'), (1947, 'avocado'), (1949, 'saffronic'), (1950, 'wine'), (1951, 'bone-coloured'), (1953, 'bible-black'), (1953, 'pinko-grey'), (1961, 'toffee-brown'), (1962, 'toffee'), (1962, 'peppery'), (1963, 'pimiento'), (1963, 'magnolia'), (1965, 'lily-green'), (1965, 'nutmeg'), (1970, 'flame'), (1971, 'sunshine-yellow'), (1975, 'wheaten'), (1975, 'sludgy'), (1977, 'tangerine-coloured'), (1978, 'spun-golden'), (1981, 'pepperminty'), (1991, 'mango')]\n"
     ]
    }
   ],
   "source": [
    "print(\"Here are the post-1914 words and the year of first usage according to the Oxford English Dictionary.\")\n",
    "print(\"The 20th century ushered in food-related color words including avocado, citron, cocoa, mustard, pimento & toffee.\")\n",
    "print()\n",
    "print(sorted(modern_color_words, key=lambda x: x[0]))"
   ]
  },
  {
   "cell_type": "code",
   "execution_count": 17,
   "metadata": {
    "collapsed": true
   },
   "outputs": [],
   "source": [
    "def find_color_words(text):\n",
    "    wnl = WordNetLemmatizer()\n",
    "    color_words = []\n",
    "    color_names = list(color_dict.keys())\n",
    "    colors = [wnl.lemmatize(c) for c in color_names]\n",
    "    tags = {'NN': 'n', \n",
    "            'JJ': 'a'}\n",
    "    \n",
    "    \n",
    "    return color_words"
   ]
  },
  {
   "cell_type": "code",
   "execution_count": 18,
   "metadata": {
    "collapsed": false
   },
   "outputs": [
    {
     "name": "stdout",
     "output_type": "stream",
     "text": [
      "['white', 'blank', 'blanch', 'paper-white', 'candid', 'whitish', 'whitelike', 'albid', 'incandent', 'all-white', 'snow-white', 'snowish', 'snowy', 'nixious', 'snow-like', 'snow', 'milk-white', 'milkish', 'milky', 'milk', 'milken', 'lacteal', 'lacteous', 'lactaceous', 'lactean', 'lactescent', 'bone', 'ivory', 'ivory-white', 'eburnean', 'eburnine', 'bone-white', 'ivorine', 'ivoried', 'lily-white', 'lily', 'lily-whited', 'lily-wristed', 'lily-like', 'lily-coloured', 'chalk-white', 'chalky', 'chalkish', 'ermine', 'ermined', 'marble', 'alabaster', 'alabastrine', 'marmorean', 'marbly', 'marmoreal', 'pearly', 'swan-white', 'ice-white', 'lint-white', 'wool-white', 'wax-white', 'cottonary', 'cottonous', 'cottony', 'sheep-hued', 'ecru', 'natural-coloured', 'oysterous', 'oyster', 'silver', 'silverish', 'argentine', 'argent', 'silver-coloured', 'silver-white', 'silver-like', 'silvery', 'argenteous', 'silvern', 'flatten', 'fleeten', 'blue-white', 'blush-white', 'cream-coloured', 'creamy', 'cream', 'black', 'blok', 'neger', 'sable', 'black-coloured', 'sable-coloured', 'ebon', 'ethiop', 'torrid', 'atred', 'pullous', 'nigricant', 'nigrific', 'negro', 'nigritudinous', 'nigrine', 'blackish', 'blacky', 'nigrescent', 'bigresceous', 'for-black', 'self-black', 'nigrous', 'all-black', 'jet-black', 'jetty', 'jetty-black', 'jettish', 'jet', 'coal-black', 'coaly', 'night-black', 'night-dark', 'ravenish', 'raven-black', 'raven-coloured', 'raven', 'inky', 'sepian', 'atramental', 'atramentous', 'chalcanthous', 'atramentitious', 'inkish', 'atramentaceous', 'atramentarious', 'pitchy', 'pitch-coloured', 'piceous', 'picescent', 'sooty', 'fuliginated', 'fuliginous', 'pit-black', 'fusco-piceous', 'brownish-black', 'brown-black', 'pukish', 'blue-black', 'sloe-black', 'black-rimmed', 'blacked-edged', 'black-bordered', 'smutting', 'blackening', 'nigricanting', 'forswarted', 'bletchy', 'blackened', 'well-blacked', 'collied', 'blacked', 'lamp-blacked', 'corked', 'burnt-corked', 'sootied', 'fire-swart', 'charred', 'blackleaded', 'plumbagoed', 'unblacked', 'red', 'reod', 'ruddy', 'reddy', 'rouge', 'redly', 'gules', 'red-coloured', 'guly', 'blushing', 'rubric', 'nacarine', 'minious', 'rubriform', 'carbuncly', 'blushful', 'envermeiled', 'ablush', 'flammulated', 'rubrical', 'redward', 'reddish', 'rubicund', 'ruddish', 'ruddyish', 'rutilous', 'flushy', 'rubescent', 'rufescent', 'rufulous', 'rufous', 'inred', 'foxy', 'angered', 'scarlet', 'puniceous', 'vermeil', 'coral', 'punic', 'orient', 'vermilion', 'wax-red', 'cherry-red', 'punical', 'coralline', 'scarleted', 'coccineous', 'cinnabrian', 'poppy-coloured', 'miniaceous', 'phoeniceous', 'cherry-coloured', 'coral-red', 'cherried', 'punicean', 'cinnabar', 'geraniumed', 'miniatous', 'vermilion-coloured', 'geranium-coloured', 'pink', 'lobster-red', 'phoenicean', 'magenta', 'cardinal', 'scarlet-vermilion', 'canellia-red', 'miniate', 'nasturtium-red', 'blood-red', 'bloody', 'purpurine', 'sanguine', 'tuly', 'murrey', 'purpure', 'crimson', 'sanguinolent', 'cramoisy', 'ruby-red', 'ruby', 'sanguineous', 'sanguine-coloured', 'blood-coloured', 'purple-red', 'rubied', 'incarnadine', 'tyrian', 'rubious', 'murrey-coloured', 'haematine', 'vinaceous', 'carmine', 'claret-coloured', 'ensanguined', 'peony', 'sanguinaceous', 'gory', 'crimsony', 'vinous', 'laky', 'grenat', 'madder', 'wine-dark', 'claret', 'rusty', 'hepatic', 'horse-flesh', 'rubiginous', 'iron', 'sand-red', 'ferruginous', 'lateritious', 'testaceous', 'rust-coloured', 'brick-coloured', 'maroon', 'rusted', 'brick-red', 'brownish-red', 'brown-red', 'rush', 'brickdust-like', 'brickdusty', 'chestnut-red', 'terra-cotta', 'copper-red', 'bricky', 'brickish', 'fox-red', 'mahogany-red', 'roan', 'sherry-red', 'port-winey', 'fire-red', 'flame-red', 'flammid', 'flammeous', 'rosen', 'rose-red', 'rosy', 'roseate', 'roset', 'rosing', 'rose-coloured', 'rose-like', 'roseal', 'rosal', 'rosy-fingered', 'carnation', 'damask', 'rosied', 'damasked', 'roseac', 'rose', 'rosaceous', 'rose-tinted', 'blush-rose', 'incarnate', 'fleshy', 'incarnation', 'pallet', 'peach', 'bepurfurate', 'blush', 'peachy', 'peach-coloured', 'pink-coloured', 'blush-coloured', 'blushy', 'gridelin', 'carnationed', 'pinky', 'carneous', 'flesh-coloured', 'flesh-colour', 'mushroom-coloured', 'salmon-coloured', 'pinkish', 'salmon', 'blush-tinted', 'flesh-red', 'naturelle', 'flesh-pink', 'lilac-pink', 'strawberry', 'pomegranate', 'framboise', 'raspberry', 'pink-washed', 'rubent', 'reddening', 'erubescent', 'rubifying', 'rubificative', 'rubific', 'red-making', 'rubified', 'reddened', 'empurpled', 'crimsoned', 'ruddied', 'incarnadined', 'purpured', 'purpled', 'engored', 'encrimsoned', 'vermeiled', 'raddled', 'ruddled', 'vermilioned', 'incrimsoned', 'incarmined', 'carmined', 'rosed', 'pinkified', 'rubricate', 'rubricated', 'rubricked', 'brazil', 'pelagian', 'green', 'verdant', 'verdurant', 'sinople', 'vernant', 'viricund', 'virid', 'virideous', 'evergreen', 'virent', 'greenish', 'herbish', 'watchet', 'willowish', 'greeny', 'viridescent', 'greensome', 'greenery', 'smaragdine', 'emerald-green', 'emeraldine', 'lime-green', 'twig-green', 'steel-green', 'bottle-green', 'corbeau', 'forest-green', 'spinach-green', 'malachite', 'beryl', 'water', 'berylline', 'chlorine', 'peppermint', 'reseda', 'grassy', 'prasine', 'leeky', 'leekish', 'porraceous', 'leek-green', 'gaudy-green', 'gosling-colour', 'gosling-green', 'chrysoprase', 'tilleul', 'olive', 'olive-coloured', 'olivaceous', 'olive-greenish', 'olivescent', 'glaucy', 'sea-green', 'wave-green', 'aeruginous', 'glaucous', 'eruginary', 'verdazurine', 'blue-green', 'bluish-green', 'caesious', 'verditer', 'verd-asure', 'verdigrisy', 'glass', 'sage-coloured', 'sage', 'sage-greeny', 'beech-green', 'viper-green', 'sap-green', 'jade-green', 'pistachio', 'lizard-green', 'greening', 'virescent', 'greenable', 'chlorophyllous', 'chlorophyllian', 'chlorophyllaceous', 'verdigris', 'viridian', 'yellow', 'blayk', 'jaune', 'flaw', 'jaundiced', 'flaxed', 'flave', 'flavous', 'blake', 'gambogian', 'yellowish', 'saffronish', 'jaunish', 'sanded', 'saffrony', 'yellowy', 'sallow', 'sallowish', 'sandy', 'flavescent', 'sandyish', 'flavicant', 'chromy', 'sunnish', 'sunny', 'canary', 'marigold', 'buttercup', 'nasturtium-yellow', 'topazine', 'topaz-tinted', 'topas-coloured', 'gull', 'flaxen', 'palew', 'straw-coloured', 'branlie', 'flaxy', 'festucine', 'sulphureous', 'flaxenish', 'strawy', 'straw-yellow', 'bomycinous', 'sulphur-coloured', 'sherry-yellow', 'sulphur-yellow', 'bombasic', 'straw', 'wax-coloured', 'stramineous', 'maize-coloured', 'daffodil', 'daw', 'flax', 'sherry-coloured', 'mastic', 'sulpho-chromic', 'ochroid', 'wheat-coloured', 'sulphurous', 'sulphury', 'tea-rose', 'subcitrine', 'citrine', 'citron-coloured', 'primrose-coloured', 'lemon-coloured', 'primrose', 'lemon-yellow', 'citron-hued', 'lemon', 'primrosy', 'golden', 'dory', 'goldish', 'goldly', 'aureate', 'goldy', 'gilden', 'scorn-gold', 'pactolian', 'aureal', 'gold', 'gilded', 'gold-coloured', 'aurulent', 'aurelian', 'deaurated', 'tuscan', 'corn-coloured', 'aureoline', 'tuscan-coloured', 'brazen', 'brassy', 'aeneous', 'brass-coloured', 'red-yellow', 'red-gold', 'saffron-hued', 'saffron-coloured', 'saffron', 'crocean', 'croceal', 'croceous', 'croceate', 'fallow', 'favel', 'fulvid', 'fulve', 'fulvous', 'fallow-coloured', 'flavid', 'fox-coloured', 'fulvescent', 'meline', 'gangrenous', 'greenery-yallery', 'ochry', 'sand-coloured', 'shammy', 'buff-coloured', 'ochreish', 'ochreous', 'buff', 'ochraceous', 'buff-colour', 'buffish', 'mustard-coloured', 'nankeen', 'buffy', 'ochre-coloured', 'mustardy', 'ochrous', 'buff-yellow', 'buff-washed', 'champagne', 'greyish-yellow', 'vitelline', 'luteous', 'orange-yellow', 'orange-buff', 'honey-yellow', 'gamboge', 'honey-gold', 'lily-yellow', 'apple-yellow', 'butter-coloured', 'yellowing', 'saffroned', 'saffred', 'yellowed', 'turner', 'blue', 'inde', 'blae', 'glawke', 'azure', 'blusih', 'azury', 'bluey', 'blue-bleak', 'sapphirine', 'sapphire', 'sapphire-hued', 'sapphire-coloured', 'sapphiric', 'sapphire-blue', 'mazarine', 'cyaneous', 'ultramarine', 'smalt-blue', 'cobalt', 'night-blue', 'lazuline', 'smalt', 'gentian', 'blewebis', 'sloe-blue', 'lead-blue', 'navy', 'azurine', 'watchet-coloured', 'watercoloured', 'watchet-hued', 'azured', 'sky-coloured', 'ceruleous', 'cerule', 'sky-like', 'ceruleal', 'azurne', 'cerulous', 'lazure', 'cerulean', 'skyey', 'azure-blue', 'cerulescent', 'azurean', 'turquoise', 'pavonaceous', 'aquamarine', 'peacock', 'plunket', 'perse', 'grey-blue', 'smoke-blue', 'gunpowder', 'slaty-blue', 'silurian', 'purplish-blue', 'hyacinthine', 'violaceous', 'violacean', 'lilac-blue', 'hyacinthian', 'hyacinth', 'lavender', 'indigo-blue', 'indigo', 'metallic', 'steel-blue', 'chalybeous', 'wan', 'blo', 'haw', 'livid', 'lividous', 'swart', 'mourning', 'beryl-blue', 'wedgwood', 'scale-blue', 'ceruleated', 'sapphired', 'blue-washed', 'cerulific', 'ultramarinish', 'indigotic', 'brown', 'brown-coloured', 'brownish', 'browny', 'brownish-coloured', 'burnet', 'fusk', 'fusky', 'chocolate-coloured', 'brunneous', 'chocolate', 'ustulate', 'scorched', 'fuscescent', 'forest-brown', 'burnt-coloured', 'parchment', 'whitey-brown', 'coffee-coloured', 'dust-coloured', 'ochre-brown', 'blonde', 'mousy', 'toast-coloured', 'dun', 'dunned', 'dunny', 'dunnish', 'drab-coloured', 'drab', 'russet', 'reddish-brown', 'sorrel', 'berry-brown', 'sored', 'russetish', 'chelidonian', 'weaselled-coloured', 'deer-coloured', 'spadiceous', 'russeted', 'russety', 'mahogany', 'red-brown', 'reddy-brown', 'fusco-testaceous', 'mahogany-brown', 'persimmon', 'nut-brown', 'hazel', 'chestnut-coloured', 'hazeled', 'chestnut', 'chestnut-brown', 'castaneous', 'chestnutty', 'liver-hued', 'liver-coloured', 'liver', 'beveren', 'beaver-hued', 'beaver-coloured', 'musk-coloured', 'copper-coloured', 'copper', 'copperish', 'coppery', 'cupreous', 'copper-brown', 'bayard', 'bay', 'bayed', 'bay-coloured', 'bullace-bay', 'bayish', 'bay-brown', 'brown-bay', 'honey-coloured', 'cinnamon-coloured', 'cinnamon', 'lurid', 'rhubarb', 'tomabac-brown', 'sherry-bay', 'khaki', 'rhubarby', 'crotal', 'brown-gold', 'orange-brown', 'mud-coloured', 'smoke-brown', 'lead-brown', 'bluish-brown', 'lavender-brown', 'bronze', 'bronzine', 'bronzy', 'bronze-golden', 'wainscot', 'turd-coloured', 'honey-brown', 'snuff-coloured', 'snuffy', 'moorit', 'umber', 'umbery', 'sienna-brown', 'oily-brown', 'seal-brown', 'tabac', 'glandaceous', 'cigar-brown', 'bead-brown', 'browning', 'embrowning', 'umbered', 'well-browned', 'embrowned', 'browned', 'adusted', 'sunburnt', 'staneraw', 'bistred', 'russeting', 'bronzing', 'bronzed', 'grey', 'gris', 'grizzle', 'grison', 'kennet-colour', 'grisy', 'grizzly', 'grisard', 'grysande', 'greyish', 'grizzlish', 'slaty', 'sabelline', 'walnyed', 'canvas', 'hoar', 'for-hoar', 'hoarsih', 'hoary', 'incanescent', 'crane', 'crane-coloured', 'crane-feather', 'ash-colour', 'subcineritious', 'cinereous', 'cinereal', 'smoky', 'smoked', 'smoke', 'iron-grey', 'steel-grey', 'steely', 'steel', 'leaden', 'leasih', 'leady', 'plumby', 'plumbine', 'leaden-coloured', 'lead-coloured', 'plumbean', 'plumbeous', 'lead-grey', 'leaden-hued', 'quaker-coloured', 'prison-grey', 'flinty', 'pearl-coloured', 'pearl', 'pearled', 'pearl-hued', 'pearlish', 'pewter', 'mouse-coloured', 'mouse-colour', 'mouse-dun', 'putty-coloured', 'beige', 'beige-coloured', 'bice', 'butter-nut', 'stone-coloured', 'stone', 'ficelle-coloured', 'oatmeal', 'moleskin-coloured', 'browny-grey', 'mole-grey', 'mole', 'stony', 'taupe', 'waterish', 'blunket', 'bluish-grey', 'blue-grey', 'slate-grey', 'slate-coloured', 'griseous', 'neutral', 'schistous', 'slatish', 'comumbine', 'columbe', 'dove-colour', 'dove-coloured', 'lavender-grey', 'lilac-grey', 'dove', 'elephant', 'desert-grey', 'greying', 'purple', 'purpurate', 'purple-coloured', 'porphyrite', 'purpurean', 'blattean', 'purpureal', 'porphyrous', 'babylonian', 'purplish', 'purply', 'jacinthinous', 'damson', 'lilac-coloured', 'lilac', 'lilac-tinted', 'lilaceous', 'lilacky', 'lilac-purple', 'prune-coloured', 'puce', 'puce-coloured', 'violet', 'blue-violet', 'blue-purple', 'violet-coloured', 'bluish-purple', 'ianthine', 'amethystine', 'violety', 'violescent', 'violetish', 'pansy-coloured', 'mulberry-coloured', 'plum-coloured', 'mulberry', 'mauve', 'mauve-colour', 'mauve-coloured', 'amarantine', 'mauvish', 'pontifical', 'plummy', 'plum', 'petunia', 'palatinate', 'empurpling', 'meliboean', 'orange', 'oranged', 'orange-coloured', 'orange-tawny', 'orangey', 'orangish', 'flame-coloured', 'gingerish', 'red-orange']\n"
     ]
    }
   ],
   "source": [
    "color_words = find_color_words(tokenized)\n",
    "print(color_words)"
   ]
  },
  {
   "cell_type": "code",
   "execution_count": 19,
   "metadata": {
    "collapsed": true
   },
   "outputs": [],
   "source": [
    "wnl = WordNetLemmatizer()"
   ]
  },
  {
   "cell_type": "code",
   "execution_count": 26,
   "metadata": {
    "collapsed": false
   },
   "outputs": [
    {
     "name": "stdout",
     "output_type": "stream",
     "text": [
      "cottonary\n"
     ]
    }
   ],
   "source": [
    "print(wnl.lemmatize('cottonary'))"
   ]
  },
  {
   "cell_type": "code",
   "execution_count": null,
   "metadata": {
    "collapsed": false
   },
   "outputs": [],
   "source": [
    "nouns = Counter([n[0] for n in colors_in_text if n[1] == 'NN'])\n",
    "adjectives = Counter([a[0] for a in colors_in_text if a[1] == 'JJ'])"
   ]
  },
  {
   "cell_type": "code",
   "execution_count": null,
   "metadata": {
    "collapsed": false
   },
   "outputs": [],
   "source": [
    "print(\"*** Nouns ***\")\n",
    "print(nouns)\n",
    "print(\"*** Adjectives ***\")\n",
    "print(adjectives)"
   ]
  },
  {
   "cell_type": "code",
   "execution_count": null,
   "metadata": {
    "collapsed": true
   },
   "outputs": [],
   "source": []
  }
 ],
 "metadata": {
  "kernelspec": {
   "display_name": "Python [conda env:potter]",
   "language": "python",
   "name": "conda-env-potter-py"
  },
  "language_info": {
   "codemirror_mode": {
    "name": "ipython",
    "version": 3
   },
   "file_extension": ".py",
   "mimetype": "text/x-python",
   "name": "python",
   "nbconvert_exporter": "python",
   "pygments_lexer": "ipython3",
   "version": "3.6.2"
  }
 },
 "nbformat": 4,
 "nbformat_minor": 2
}
