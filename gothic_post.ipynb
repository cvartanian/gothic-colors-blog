{
 "cells": [
  {
   "cell_type": "markdown",
   "metadata": {},
   "source": [
    "<img src=\"gothic.png\" />"
   ]
  },
  {
   "cell_type": "code",
   "execution_count": null,
   "metadata": {
    "collapsed": false
   },
   "outputs": [],
   "source": [
    "import csv\n",
    "import json\n",
    "import matplotlib.pyplot as plt\n",
    "import numpy as np\n",
    "import string\n",
    "from collections import Counter, defaultdict, OrderedDict\n",
    "from nltk import pos_tag\n",
    "from nltk.corpus import stopwords\n",
    "from nltk.tokenize import word_tokenize"
   ]
  },
  {
   "cell_type": "code",
   "execution_count": null,
   "metadata": {
    "collapsed": true
   },
   "outputs": [],
   "source": [
    "title_file = 'ShelleyMary_Frankenstein_Gutenberg.txt'\n",
    "title = \"Frankenstein\""
   ]
  },
  {
   "cell_type": "code",
   "execution_count": null,
   "metadata": {
    "collapsed": false
   },
   "outputs": [],
   "source": [
    "def tokenize_text(filename):\n",
    "    \"\"\"\n",
    "    This function generates a list of tokens with punctuation\n",
    "    stopwords, and spaces removed for the whole text.\n",
    "    \"\"\"\n",
    "    text_tokens = []\n",
    "\n",
    "    file_path = \"./corpora/\" + filename\n",
    "    stop = list(set(stopwords.words('english')))\n",
    "    punc = [p for p in string.punctuation]\n",
    "    stop_punc = stop + punc + [\"''\", '``']\n",
    "\n",
    "    text = open(file_path, 'r')\n",
    "\n",
    "    for row in text:\n",
    "        tokens = pos_tag(word_tokenize(row.lower()))\n",
    "        if len(tokens) is not 0:\n",
    "            # puts everything in lowercase, removes punctuation and stopwords\n",
    "            tokens = [token for token in tokens if token[0] not in stop_punc]\n",
    "            # adds row tokens to master list\n",
    "            text_tokens.extend(tokens)\n",
    "\n",
    "    return text_tokens"
   ]
  },
  {
   "cell_type": "code",
   "execution_count": null,
   "metadata": {
    "collapsed": false
   },
   "outputs": [],
   "source": [
    "tokenized = tokenize_text(title_file)"
   ]
  },
  {
   "cell_type": "code",
   "execution_count": null,
   "metadata": {
    "collapsed": false
   },
   "outputs": [],
   "source": [
    "print(tokenized[300:320])"
   ]
  },
  {
   "cell_type": "code",
   "execution_count": null,
   "metadata": {
    "collapsed": false
   },
   "outputs": [],
   "source": [
    "def id_color_words():\n",
    "    \"\"\"\n",
    "    Gets color words from the csv file and puts them into a dict where key = word\n",
    "    and value = (hex value, color family).\n",
    "    \"\"\"\n",
    "    color_word_dict = {}\n",
    "    modern_color_words = []\n",
    "    color_data = csv.reader(open('./color_names.csv'), delimiter=\",\", quotechar='\"')\n",
    "    next(color_data, None)\n",
    "\n",
    "    for row in color_data:\n",
    "        name = row[0].lower()\n",
    "        year = int(row[1])\n",
    "        if ' ' not in name:\n",
    "            if year < 1914:\n",
    "                family = row[2].lower()\n",
    "                hex_value = row[3].lower()\n",
    "                color_word_dict[name] = (hex_value, family)\n",
    "            else:\n",
    "                modern_color_words.append((year, name))\n",
    "                   \n",
    "    return color_word_dict, modern_color_words"
   ]
  },
  {
   "cell_type": "code",
   "execution_count": null,
   "metadata": {
    "collapsed": false
   },
   "outputs": [],
   "source": [
    "color_dict, modern_color_words = id_color_words()\n",
    "print(\"There are %d color words in our dictionary that were in use before 1914, per the OED.\" % len(color_dict))\n",
    "print()\n",
    "sample_colors = list(color_dict.keys())[230:240]\n",
    "print(\"Here is a sample - first value is the HTML color, the second is the color family.\")\n",
    "for s in sample_colors:\n",
    "    print(s, \":\", color_dict[s])"
   ]
  },
  {
   "cell_type": "code",
   "execution_count": null,
   "metadata": {
    "collapsed": false
   },
   "outputs": [],
   "source": [
    "def word_order(t, color_dict):\n",
    "    colors = color_dict.keys()\n",
    "    for i in range(len(t)-1):\n",
    "        if 'JJ' in t[i][1] and t[i][0] in colors:\n",
    "            if 'NN' in t[i+1][1] and t[i+1][0] in colors:\n",
    "                print(\"JJ, NN\", t[i], t[i + 1])\n",
    "        elif'JJ' in t[i+1][1] and t[i+1][0] in colors:\n",
    "            if 'NN' in t[i][1] and t[i][0] in colors:\n",
    "                print(\"NN, JJ\", t[i], t[i + 1])\n",
    "word_order(tokenized, color_dict)"
   ]
  },
  {
   "cell_type": "code",
   "execution_count": null,
   "metadata": {
    "collapsed": false
   },
   "outputs": [],
   "source": [
    "print(\"Here are the post-1914 words and the year of first usage according to the Oxford English Dictionary.\")\n",
    "print(\"The 20th century ushered in food-related color words including avocado, citron, cocoa, mustard, pimento & toffee.\")\n",
    "print()\n",
    "print(sorted(modern_color_words, key=lambda x: x[0]))"
   ]
  },
  {
   "cell_type": "code",
   "execution_count": null,
   "metadata": {
    "collapsed": true
   },
   "outputs": [],
   "source": [
    "def color_words(c_dict, text):\n",
    "    tags = ['NN', 'JJ']\n",
    "    color_names = list(c_dict.keys())\n",
    "    color_words = [w for w in text if w[0] in color_names and w[1] in tags]\n",
    "    \n",
    "    return color_words"
   ]
  },
  {
   "cell_type": "code",
   "execution_count": null,
   "metadata": {
    "collapsed": false
   },
   "outputs": [],
   "source": [
    "color_in_text = color_words(color_dict, tokenized)"
   ]
  },
  {
   "cell_type": "code",
   "execution_count": null,
   "metadata": {
    "collapsed": false
   },
   "outputs": [],
   "source": [
    "print(color_in_text[:15])"
   ]
  },
  {
   "cell_type": "code",
   "execution_count": null,
   "metadata": {
    "collapsed": false
   },
   "outputs": [],
   "source": [
    "nouns = Counter([n[0] for n in color_in_text if n[1] == 'NN'])\n",
    "adjectives = Counter([a[0] for a in color_in_text if a[1] == 'JJ'])"
   ]
  },
  {
   "cell_type": "code",
   "execution_count": null,
   "metadata": {
    "collapsed": false
   },
   "outputs": [],
   "source": [
    "print(\"*** Nouns ***\")\n",
    "print(nouns)\n",
    "print(\"*** Adjectives ***\")\n",
    "print(adjectives)"
   ]
  },
  {
   "cell_type": "code",
   "execution_count": null,
   "metadata": {
    "collapsed": false
   },
   "outputs": [],
   "source": [
    "pct_color_words = round((len(color_in_text)/len(tokenized))*100, 2)\n",
    "print(\"%s is %s percent color words.\"% (title, pct_color_words))"
   ]
  },
  {
   "cell_type": "code",
   "execution_count": null,
   "metadata": {
    "collapsed": false
   },
   "outputs": [],
   "source": [
    "def group_to_plot(color_dict, c_i_t):\n",
    "    color_summary = defaultdict(int)\n",
    "    for c in c_i_t:\n",
    "        color_summary[color_dict[c[0]][0]] += 1\n",
    "    color_sum_a = dict(OrderedDict(sorted(color_summary.items(), key=lambda t: t[1])))\n",
    "    color_sum_d = dict(OrderedDict(sorted(color_summary.items(), key=lambda t: t[1], reverse=True)))\n",
    "    return color_sum_a, color_sum_d"
   ]
  },
  {
   "cell_type": "code",
   "execution_count": null,
   "metadata": {
    "collapsed": false
   },
   "outputs": [],
   "source": [
    "html_color_counts_asc, html_color_counts_dsc  = group_to_plot(color_dict, color_in_text)\n",
    "print (json.dumps(html_color_counts_dsc, indent=1))"
   ]
  },
  {
   "cell_type": "code",
   "execution_count": null,
   "metadata": {
    "collapsed": false
   },
   "outputs": [],
   "source": [
    "colors = list(html_color_counts.keys())\n",
    "counts = list(html_color_counts.values())\n",
    "y_pos = np.arange(len(counts))\n",
    "\n",
    "plt.barh(y_pos, counts, align='center', alpha=0.9, color=colors)\n",
    "plt.yticks(y_pos, colors)\n",
    "plt.xlabel('# references')\n",
    "plt.title('HTML colors from ' + title)\n",
    " \n",
    "plt.show()"
   ]
  },
  {
   "cell_type": "code",
   "execution_count": null,
   "metadata": {
    "collapsed": false
   },
   "outputs": [],
   "source": [
    "color_labels = [c[0] for c in color_in_text]\n",
    "html_color_list = [color_dict[c][0] for c in color_labels]\n",
    "\n",
    "cmap = html_color_list\n",
    "bounds = [0,10,20]\n",
    "\n",
    "fig, ax = plt.subplots()\n",
    "ax.grid(which='major', linestyle='-', color='red', linewidth=2)\n",
    "ax.set_xticks(np.arange(0, 25, 1));\n",
    "ax.set_yticks(np.arange(0, 25, 1));\n",
    "\n",
    "plt.show()"
   ]
  },
  {
   "cell_type": "code",
   "execution_count": null,
   "metadata": {
    "collapsed": true
   },
   "outputs": [],
   "source": []
  }
 ],
 "metadata": {
  "kernelspec": {
   "display_name": "Python [conda env:potter]",
   "language": "python",
   "name": "conda-env-potter-py"
  },
  "language_info": {
   "codemirror_mode": {
    "name": "ipython",
    "version": 3
   },
   "file_extension": ".py",
   "mimetype": "text/x-python",
   "name": "python",
   "nbconvert_exporter": "python",
   "pygments_lexer": "ipython3",
   "version": "3.6.2"
  }
 },
 "nbformat": 4,
 "nbformat_minor": 2
}
